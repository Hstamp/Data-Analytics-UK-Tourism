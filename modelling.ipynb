{
 "cells": [
  {
   "cell_type": "code",
   "execution_count": 1,
   "metadata": {
    "collapsed": true
   },
   "outputs": [],
   "source": [
    "import numpy as np\n",
    "import pandas as pd\n",
    "from sklearn.model_selection import train_test_split\n",
    "from sklearn.neighbors import KNeighborsClassifier\n",
    "from sklearn.metrics import accuracy_score\n",
    "from sklearn import metrics\n",
    "import matplotlib.pyplot as plt\n",
    "from sklearn.metrics import confusion_matrix\n",
    "from sklearn import preprocessing"
   ]
  },
  {
   "cell_type": "code",
   "execution_count": 4,
   "metadata": {
    "scrolled": true
   },
   "outputs": [
    {
     "name": "stdout",
     "output_type": "stream",
     "text": [
      "(36274, 13)\n"
     ]
    },
    {
     "data": {
      "text/html": [
       "<div>\n",
       "<style>\n",
       "    .dataframe thead tr:only-child th {\n",
       "        text-align: right;\n",
       "    }\n",
       "\n",
       "    .dataframe thead th {\n",
       "        text-align: left;\n",
       "    }\n",
       "\n",
       "    .dataframe tbody tr th {\n",
       "        vertical-align: top;\n",
       "    }\n",
       "</style>\n",
       "<table border=\"1\" class=\"dataframe\">\n",
       "  <thead>\n",
       "    <tr style=\"text-align: right;\">\n",
       "      <th></th>\n",
       "      <th>Age</th>\n",
       "      <th>Sex</th>\n",
       "      <th>Year</th>\n",
       "      <th>country</th>\n",
       "      <th>duration</th>\n",
       "      <th>holiday_package</th>\n",
       "      <th>mode_of_transport</th>\n",
       "      <th>place_of_residence</th>\n",
       "      <th>purpose_of_travel</th>\n",
       "      <th>quarter</th>\n",
       "      <th>weighted_visits</th>\n",
       "      <th>weighted_nights</th>\n",
       "      <th>weighted_spend</th>\n",
       "    </tr>\n",
       "  </thead>\n",
       "  <tbody>\n",
       "    <tr>\n",
       "      <th>0</th>\n",
       "      <td>0-15</td>\n",
       "      <td>Female</td>\n",
       "      <td>2014</td>\n",
       "      <td>Austria</td>\n",
       "      <td>4 - 13 Nights</td>\n",
       "      <td>Independent</td>\n",
       "      <td>Air</td>\n",
       "      <td>UK residents</td>\n",
       "      <td>Holiday</td>\n",
       "      <td>Jan-Mar</td>\n",
       "      <td>894.333</td>\n",
       "      <td>6260.331</td>\n",
       "      <td>833518.356</td>\n",
       "    </tr>\n",
       "    <tr>\n",
       "      <th>1</th>\n",
       "      <td>16-24</td>\n",
       "      <td>Male</td>\n",
       "      <td>2014</td>\n",
       "      <td>Austria</td>\n",
       "      <td>4 - 13 Nights</td>\n",
       "      <td>Independent</td>\n",
       "      <td>Air</td>\n",
       "      <td>UK residents</td>\n",
       "      <td>Holiday</td>\n",
       "      <td>Jan-Mar</td>\n",
       "      <td>2482.819</td>\n",
       "      <td>16316.920</td>\n",
       "      <td>1625131.051</td>\n",
       "    </tr>\n",
       "    <tr>\n",
       "      <th>2</th>\n",
       "      <td>16-24</td>\n",
       "      <td>Female</td>\n",
       "      <td>2014</td>\n",
       "      <td>Austria</td>\n",
       "      <td>1 - 3 Nights</td>\n",
       "      <td>Independent</td>\n",
       "      <td>Air</td>\n",
       "      <td>UK residents</td>\n",
       "      <td>Holiday</td>\n",
       "      <td>Jan-Mar</td>\n",
       "      <td>525.028</td>\n",
       "      <td>1575.084</td>\n",
       "      <td>105005.600</td>\n",
       "    </tr>\n",
       "    <tr>\n",
       "      <th>3</th>\n",
       "      <td>16-24</td>\n",
       "      <td>Female</td>\n",
       "      <td>2014</td>\n",
       "      <td>Austria</td>\n",
       "      <td>4 - 13 Nights</td>\n",
       "      <td>Independent</td>\n",
       "      <td>Air</td>\n",
       "      <td>UK residents</td>\n",
       "      <td>Holiday</td>\n",
       "      <td>Jan-Mar</td>\n",
       "      <td>793.577</td>\n",
       "      <td>6445.679</td>\n",
       "      <td>854951.644</td>\n",
       "    </tr>\n",
       "    <tr>\n",
       "      <th>4</th>\n",
       "      <td>25-34</td>\n",
       "      <td>Male</td>\n",
       "      <td>2014</td>\n",
       "      <td>Austria</td>\n",
       "      <td>1 - 3 Nights</td>\n",
       "      <td>Independent</td>\n",
       "      <td>Air</td>\n",
       "      <td>UK residents</td>\n",
       "      <td>Holiday</td>\n",
       "      <td>Jan-Mar</td>\n",
       "      <td>864.337</td>\n",
       "      <td>2593.011</td>\n",
       "      <td>151258.975</td>\n",
       "    </tr>\n",
       "  </tbody>\n",
       "</table>\n",
       "</div>"
      ],
      "text/plain": [
       "     Age     Sex  Year  country       duration holiday_package  \\\n",
       "0   0-15  Female  2014  Austria  4 - 13 Nights     Independent   \n",
       "1  16-24    Male  2014  Austria  4 - 13 Nights     Independent   \n",
       "2  16-24  Female  2014  Austria   1 - 3 Nights     Independent   \n",
       "3  16-24  Female  2014  Austria  4 - 13 Nights     Independent   \n",
       "4  25-34    Male  2014  Austria   1 - 3 Nights     Independent   \n",
       "\n",
       "  mode_of_transport place_of_residence purpose_of_travel  quarter  \\\n",
       "0               Air       UK residents           Holiday  Jan-Mar   \n",
       "1               Air       UK residents           Holiday  Jan-Mar   \n",
       "2               Air       UK residents           Holiday  Jan-Mar   \n",
       "3               Air       UK residents           Holiday  Jan-Mar   \n",
       "4               Air       UK residents           Holiday  Jan-Mar   \n",
       "\n",
       "   weighted_visits  weighted_nights  weighted_spend  \n",
       "0          894.333         6260.331      833518.356  \n",
       "1         2482.819        16316.920     1625131.051  \n",
       "2          525.028         1575.084      105005.600  \n",
       "3          793.577         6445.679      854951.644  \n",
       "4          864.337         2593.011      151258.975  "
      ]
     },
     "execution_count": 4,
     "metadata": {},
     "output_type": "execute_result"
    }
   ],
   "source": [
    "#Read in our data\n",
    "overseas = pd.read_excel('../Datasets/cleaned_UK_outliers_removed.xlsx', 'Sheet1')\n",
    "print(overseas.shape)\n",
    "overseas.head()"
   ]
  },
  {
   "cell_type": "code",
   "execution_count": 5,
   "metadata": {},
   "outputs": [
    {
     "name": "stdout",
     "output_type": "stream",
     "text": [
      "(36274,)\n",
      "(36274, 12)\n"
     ]
    },
    {
     "data": {
      "text/html": [
       "<div>\n",
       "<style>\n",
       "    .dataframe thead tr:only-child th {\n",
       "        text-align: right;\n",
       "    }\n",
       "\n",
       "    .dataframe thead th {\n",
       "        text-align: left;\n",
       "    }\n",
       "\n",
       "    .dataframe tbody tr th {\n",
       "        vertical-align: top;\n",
       "    }\n",
       "</style>\n",
       "<table border=\"1\" class=\"dataframe\">\n",
       "  <thead>\n",
       "    <tr style=\"text-align: right;\">\n",
       "      <th></th>\n",
       "      <th>Age</th>\n",
       "      <th>Sex</th>\n",
       "      <th>country</th>\n",
       "      <th>duration</th>\n",
       "      <th>Year</th>\n",
       "      <th>mode_of_transport</th>\n",
       "      <th>purpose_of_travel</th>\n",
       "      <th>quarter</th>\n",
       "      <th>place_of_residence</th>\n",
       "      <th>weighted_visits</th>\n",
       "      <th>weighted_nights</th>\n",
       "      <th>weighted_spend</th>\n",
       "    </tr>\n",
       "  </thead>\n",
       "  <tbody>\n",
       "    <tr>\n",
       "      <th>0</th>\n",
       "      <td>0-15</td>\n",
       "      <td>Female</td>\n",
       "      <td>Austria</td>\n",
       "      <td>4 - 13 Nights</td>\n",
       "      <td>2014</td>\n",
       "      <td>Air</td>\n",
       "      <td>Holiday</td>\n",
       "      <td>Jan-Mar</td>\n",
       "      <td>UK residents</td>\n",
       "      <td>894.333</td>\n",
       "      <td>6260.331</td>\n",
       "      <td>833518.356</td>\n",
       "    </tr>\n",
       "    <tr>\n",
       "      <th>1</th>\n",
       "      <td>16-24</td>\n",
       "      <td>Male</td>\n",
       "      <td>Austria</td>\n",
       "      <td>4 - 13 Nights</td>\n",
       "      <td>2014</td>\n",
       "      <td>Air</td>\n",
       "      <td>Holiday</td>\n",
       "      <td>Jan-Mar</td>\n",
       "      <td>UK residents</td>\n",
       "      <td>2482.819</td>\n",
       "      <td>16316.920</td>\n",
       "      <td>1625131.051</td>\n",
       "    </tr>\n",
       "    <tr>\n",
       "      <th>2</th>\n",
       "      <td>16-24</td>\n",
       "      <td>Female</td>\n",
       "      <td>Austria</td>\n",
       "      <td>1 - 3 Nights</td>\n",
       "      <td>2014</td>\n",
       "      <td>Air</td>\n",
       "      <td>Holiday</td>\n",
       "      <td>Jan-Mar</td>\n",
       "      <td>UK residents</td>\n",
       "      <td>525.028</td>\n",
       "      <td>1575.084</td>\n",
       "      <td>105005.600</td>\n",
       "    </tr>\n",
       "    <tr>\n",
       "      <th>3</th>\n",
       "      <td>16-24</td>\n",
       "      <td>Female</td>\n",
       "      <td>Austria</td>\n",
       "      <td>4 - 13 Nights</td>\n",
       "      <td>2014</td>\n",
       "      <td>Air</td>\n",
       "      <td>Holiday</td>\n",
       "      <td>Jan-Mar</td>\n",
       "      <td>UK residents</td>\n",
       "      <td>793.577</td>\n",
       "      <td>6445.679</td>\n",
       "      <td>854951.644</td>\n",
       "    </tr>\n",
       "    <tr>\n",
       "      <th>4</th>\n",
       "      <td>25-34</td>\n",
       "      <td>Male</td>\n",
       "      <td>Austria</td>\n",
       "      <td>1 - 3 Nights</td>\n",
       "      <td>2014</td>\n",
       "      <td>Air</td>\n",
       "      <td>Holiday</td>\n",
       "      <td>Jan-Mar</td>\n",
       "      <td>UK residents</td>\n",
       "      <td>864.337</td>\n",
       "      <td>2593.011</td>\n",
       "      <td>151258.975</td>\n",
       "    </tr>\n",
       "  </tbody>\n",
       "</table>\n",
       "</div>"
      ],
      "text/plain": [
       "     Age     Sex  country       duration  Year mode_of_transport  \\\n",
       "0   0-15  Female  Austria  4 - 13 Nights  2014               Air   \n",
       "1  16-24    Male  Austria  4 - 13 Nights  2014               Air   \n",
       "2  16-24  Female  Austria   1 - 3 Nights  2014               Air   \n",
       "3  16-24  Female  Austria  4 - 13 Nights  2014               Air   \n",
       "4  25-34    Male  Austria   1 - 3 Nights  2014               Air   \n",
       "\n",
       "  purpose_of_travel  quarter place_of_residence  weighted_visits  \\\n",
       "0           Holiday  Jan-Mar       UK residents          894.333   \n",
       "1           Holiday  Jan-Mar       UK residents         2482.819   \n",
       "2           Holiday  Jan-Mar       UK residents          525.028   \n",
       "3           Holiday  Jan-Mar       UK residents          793.577   \n",
       "4           Holiday  Jan-Mar       UK residents          864.337   \n",
       "\n",
       "   weighted_nights  weighted_spend  \n",
       "0         6260.331      833518.356  \n",
       "1        16316.920     1625131.051  \n",
       "2         1575.084      105005.600  \n",
       "3         6445.679      854951.644  \n",
       "4         2593.011      151258.975  "
      ]
     },
     "execution_count": 5,
     "metadata": {},
     "output_type": "execute_result"
    }
   ],
   "source": [
    "#Split data into target variable and feature variables\n",
    "\n",
    "#target variable\n",
    "labels = overseas['holiday_package']\n",
    "#Include all other variables as feature variables\n",
    "features = overseas[['Age','Sex','country','duration','Year','mode_of_transport',\n",
    "                     'purpose_of_travel','quarter','place_of_residence', 'weighted_visits','weighted_nights', 'weighted_spend']]\n",
    "\n",
    "print(labels.shape)\n",
    "print(features.shape)\n",
    "features.head()"
   ]
  },
  {
   "cell_type": "code",
   "execution_count": 6,
   "metadata": {},
   "outputs": [
    {
     "name": "stdout",
     "output_type": "stream",
     "text": [
      "(25391, 12)\n",
      "(10883, 12)\n",
      "(25391,)\n",
      "(10883,)\n"
     ]
    }
   ],
   "source": [
    "# Split our data into test and train\n",
    "train, test, train_labels, test_labels = train_test_split(features,\n",
    "                                                          labels,\n",
    "                                                          test_size=0.30,\n",
    "                                                          random_state=42)\n",
    "\n",
    "print(train.shape)\n",
    "print(test.shape)\n",
    "print(train_labels.shape)\n",
    "print(test_labels.shape)"
   ]
  },
  {
   "cell_type": "code",
   "execution_count": 7,
   "metadata": {},
   "outputs": [
    {
     "name": "stdout",
     "output_type": "stream",
     "text": [
      "(25391, 62)\n",
      "(10883, 62)\n"
     ]
    },
    {
     "data": {
      "text/html": [
       "<div>\n",
       "<style>\n",
       "    .dataframe thead tr:only-child th {\n",
       "        text-align: right;\n",
       "    }\n",
       "\n",
       "    .dataframe thead th {\n",
       "        text-align: left;\n",
       "    }\n",
       "\n",
       "    .dataframe tbody tr th {\n",
       "        vertical-align: top;\n",
       "    }\n",
       "</style>\n",
       "<table border=\"1\" class=\"dataframe\">\n",
       "  <thead>\n",
       "    <tr style=\"text-align: right;\">\n",
       "      <th></th>\n",
       "      <th>Age_ 0-15</th>\n",
       "      <th>Age_16-24</th>\n",
       "      <th>Age_25-34</th>\n",
       "      <th>Age_35-44</th>\n",
       "      <th>Age_45-54</th>\n",
       "      <th>Age_55-64</th>\n",
       "      <th>Age_65 &amp; over</th>\n",
       "      <th>Sex_Female</th>\n",
       "      <th>Sex_Male</th>\n",
       "      <th>country_Austria</th>\n",
       "      <th>...</th>\n",
       "      <th>mode_of_transport_Tunnel</th>\n",
       "      <th>purpose_of_travel_Business</th>\n",
       "      <th>purpose_of_travel_Holiday</th>\n",
       "      <th>purpose_of_travel_Miscellaneous</th>\n",
       "      <th>purpose_of_travel_Study</th>\n",
       "      <th>purpose_of_travel_VFR</th>\n",
       "      <th>quarter_Apr-Jun</th>\n",
       "      <th>quarter_Jan-Mar</th>\n",
       "      <th>quarter_Jul-Sep</th>\n",
       "      <th>quarter_Oct-Dec</th>\n",
       "    </tr>\n",
       "  </thead>\n",
       "  <tbody>\n",
       "    <tr>\n",
       "      <th>6325</th>\n",
       "      <td>0</td>\n",
       "      <td>0</td>\n",
       "      <td>0</td>\n",
       "      <td>1</td>\n",
       "      <td>0</td>\n",
       "      <td>0</td>\n",
       "      <td>0</td>\n",
       "      <td>0</td>\n",
       "      <td>1</td>\n",
       "      <td>0</td>\n",
       "      <td>...</td>\n",
       "      <td>0</td>\n",
       "      <td>0</td>\n",
       "      <td>1</td>\n",
       "      <td>0</td>\n",
       "      <td>0</td>\n",
       "      <td>0</td>\n",
       "      <td>0</td>\n",
       "      <td>0</td>\n",
       "      <td>1</td>\n",
       "      <td>0</td>\n",
       "    </tr>\n",
       "    <tr>\n",
       "      <th>33898</th>\n",
       "      <td>0</td>\n",
       "      <td>0</td>\n",
       "      <td>0</td>\n",
       "      <td>0</td>\n",
       "      <td>1</td>\n",
       "      <td>0</td>\n",
       "      <td>0</td>\n",
       "      <td>0</td>\n",
       "      <td>1</td>\n",
       "      <td>1</td>\n",
       "      <td>...</td>\n",
       "      <td>0</td>\n",
       "      <td>0</td>\n",
       "      <td>1</td>\n",
       "      <td>0</td>\n",
       "      <td>0</td>\n",
       "      <td>0</td>\n",
       "      <td>0</td>\n",
       "      <td>0</td>\n",
       "      <td>1</td>\n",
       "      <td>0</td>\n",
       "    </tr>\n",
       "    <tr>\n",
       "      <th>720</th>\n",
       "      <td>0</td>\n",
       "      <td>0</td>\n",
       "      <td>1</td>\n",
       "      <td>0</td>\n",
       "      <td>0</td>\n",
       "      <td>0</td>\n",
       "      <td>0</td>\n",
       "      <td>1</td>\n",
       "      <td>0</td>\n",
       "      <td>0</td>\n",
       "      <td>...</td>\n",
       "      <td>0</td>\n",
       "      <td>1</td>\n",
       "      <td>0</td>\n",
       "      <td>0</td>\n",
       "      <td>0</td>\n",
       "      <td>0</td>\n",
       "      <td>0</td>\n",
       "      <td>1</td>\n",
       "      <td>0</td>\n",
       "      <td>0</td>\n",
       "    </tr>\n",
       "    <tr>\n",
       "      <th>22119</th>\n",
       "      <td>0</td>\n",
       "      <td>0</td>\n",
       "      <td>1</td>\n",
       "      <td>0</td>\n",
       "      <td>0</td>\n",
       "      <td>0</td>\n",
       "      <td>0</td>\n",
       "      <td>1</td>\n",
       "      <td>0</td>\n",
       "      <td>0</td>\n",
       "      <td>...</td>\n",
       "      <td>0</td>\n",
       "      <td>0</td>\n",
       "      <td>1</td>\n",
       "      <td>0</td>\n",
       "      <td>0</td>\n",
       "      <td>0</td>\n",
       "      <td>1</td>\n",
       "      <td>0</td>\n",
       "      <td>0</td>\n",
       "      <td>0</td>\n",
       "    </tr>\n",
       "    <tr>\n",
       "      <th>23568</th>\n",
       "      <td>0</td>\n",
       "      <td>1</td>\n",
       "      <td>0</td>\n",
       "      <td>0</td>\n",
       "      <td>0</td>\n",
       "      <td>0</td>\n",
       "      <td>0</td>\n",
       "      <td>1</td>\n",
       "      <td>0</td>\n",
       "      <td>0</td>\n",
       "      <td>...</td>\n",
       "      <td>0</td>\n",
       "      <td>0</td>\n",
       "      <td>1</td>\n",
       "      <td>0</td>\n",
       "      <td>0</td>\n",
       "      <td>0</td>\n",
       "      <td>1</td>\n",
       "      <td>0</td>\n",
       "      <td>0</td>\n",
       "      <td>0</td>\n",
       "    </tr>\n",
       "  </tbody>\n",
       "</table>\n",
       "<p>5 rows × 62 columns</p>\n",
       "</div>"
      ],
      "text/plain": [
       "       Age_ 0-15  Age_16-24  Age_25-34  Age_35-44  Age_45-54  Age_55-64  \\\n",
       "6325           0          0          0          1          0          0   \n",
       "33898          0          0          0          0          1          0   \n",
       "720            0          0          1          0          0          0   \n",
       "22119          0          0          1          0          0          0   \n",
       "23568          0          1          0          0          0          0   \n",
       "\n",
       "       Age_65 & over  Sex_Female  Sex_Male  country_Austria       ...         \\\n",
       "6325               0           0         1                0       ...          \n",
       "33898              0           0         1                1       ...          \n",
       "720                0           1         0                0       ...          \n",
       "22119              0           1         0                0       ...          \n",
       "23568              0           1         0                0       ...          \n",
       "\n",
       "       mode_of_transport_Tunnel  purpose_of_travel_Business  \\\n",
       "6325                          0                           0   \n",
       "33898                         0                           0   \n",
       "720                           0                           1   \n",
       "22119                         0                           0   \n",
       "23568                         0                           0   \n",
       "\n",
       "       purpose_of_travel_Holiday  purpose_of_travel_Miscellaneous  \\\n",
       "6325                           1                                0   \n",
       "33898                          1                                0   \n",
       "720                            0                                0   \n",
       "22119                          1                                0   \n",
       "23568                          1                                0   \n",
       "\n",
       "       purpose_of_travel_Study  purpose_of_travel_VFR  quarter_Apr-Jun  \\\n",
       "6325                         0                      0                0   \n",
       "33898                        0                      0                0   \n",
       "720                          0                      0                0   \n",
       "22119                        0                      0                1   \n",
       "23568                        0                      0                1   \n",
       "\n",
       "       quarter_Jan-Mar  quarter_Jul-Sep  quarter_Oct-Dec  \n",
       "6325                 0                1                0  \n",
       "33898                0                1                0  \n",
       "720                  1                0                0  \n",
       "22119                0                0                0  \n",
       "23568                0                0                0  \n",
       "\n",
       "[5 rows x 62 columns]"
      ]
     },
     "execution_count": 7,
     "metadata": {},
     "output_type": "execute_result"
    }
   ],
   "source": [
    "#Pre-processing categorical variables\n",
    "\n",
    "#For training data set \n",
    "sample_data_train = pd.DataFrame(train[['Age','Sex','country','duration','mode_of_transport','purpose_of_travel','quarter']])\n",
    "sample_data_train_encoded = pd.get_dummies(sample_data_train)\n",
    "\n",
    "print(sample_data_train_encoded.shape)\n",
    "\n",
    "#For testing data set\n",
    "sample_data_test = pd.DataFrame(test[['Age','Sex','country','duration','mode_of_transport','purpose_of_travel','quarter']])\n",
    "\n",
    "sample_data_test_encoded = pd.get_dummies(sample_data_test)\n",
    "sample_data_test_encoded = sample_data_test_encoded.reindex(columns = sample_data_train_encoded.columns).fillna(0)\n",
    "\n",
    "print(sample_data_test_encoded.shape)\n",
    "sample_data_train_encoded.head()"
   ]
  },
  {
   "cell_type": "code",
   "execution_count": 8,
   "metadata": {},
   "outputs": [
    {
     "data": {
      "text/html": [
       "<div>\n",
       "<style>\n",
       "    .dataframe thead tr:only-child th {\n",
       "        text-align: right;\n",
       "    }\n",
       "\n",
       "    .dataframe thead th {\n",
       "        text-align: left;\n",
       "    }\n",
       "\n",
       "    .dataframe tbody tr th {\n",
       "        vertical-align: top;\n",
       "    }\n",
       "</style>\n",
       "<table border=\"1\" class=\"dataframe\">\n",
       "  <thead>\n",
       "    <tr style=\"text-align: right;\">\n",
       "      <th></th>\n",
       "      <th>weighted_visits</th>\n",
       "      <th>weighted_nights</th>\n",
       "      <th>weighted_spend</th>\n",
       "      <th>Year</th>\n",
       "    </tr>\n",
       "  </thead>\n",
       "  <tbody>\n",
       "    <tr>\n",
       "      <th>6325</th>\n",
       "      <td>0.282676</td>\n",
       "      <td>0.038261</td>\n",
       "      <td>0.721781</td>\n",
       "      <td>0.000000</td>\n",
       "    </tr>\n",
       "    <tr>\n",
       "      <th>33898</th>\n",
       "      <td>0.134447</td>\n",
       "      <td>0.120489</td>\n",
       "      <td>0.198497</td>\n",
       "      <td>1.000000</td>\n",
       "    </tr>\n",
       "    <tr>\n",
       "      <th>720</th>\n",
       "      <td>0.260088</td>\n",
       "      <td>0.052093</td>\n",
       "      <td>0.163370</td>\n",
       "      <td>0.000000</td>\n",
       "    </tr>\n",
       "    <tr>\n",
       "      <th>22119</th>\n",
       "      <td>0.020062</td>\n",
       "      <td>0.013405</td>\n",
       "      <td>0.024766</td>\n",
       "      <td>0.666667</td>\n",
       "    </tr>\n",
       "    <tr>\n",
       "      <th>23568</th>\n",
       "      <td>0.143396</td>\n",
       "      <td>0.052454</td>\n",
       "      <td>0.084784</td>\n",
       "      <td>0.666667</td>\n",
       "    </tr>\n",
       "  </tbody>\n",
       "</table>\n",
       "</div>"
      ],
      "text/plain": [
       "       weighted_visits  weighted_nights  weighted_spend      Year\n",
       "6325          0.282676         0.038261        0.721781  0.000000\n",
       "33898         0.134447         0.120489        0.198497  1.000000\n",
       "720           0.260088         0.052093        0.163370  0.000000\n",
       "22119         0.020062         0.013405        0.024766  0.666667\n",
       "23568         0.143396         0.052454        0.084784  0.666667"
      ]
     },
     "execution_count": 8,
     "metadata": {},
     "output_type": "execute_result"
    }
   ],
   "source": [
    "#normalise the continuous variables (and Year) for training set \n",
    "train_continuous = train[['weighted_visits','weighted_nights','weighted_spend', 'Year']]\n",
    "\n",
    "\n",
    "min_max_scaler = preprocessing.MinMaxScaler()\n",
    "x_scaled = min_max_scaler.fit_transform(train_continuous)\n",
    "\n",
    "traincnew = pd.DataFrame(x_scaled, columns=train_continuous.columns, index=train_continuous.index)\n",
    "\n",
    "traincnew.head()\n",
    "\n"
   ]
  },
  {
   "cell_type": "code",
   "execution_count": 9,
   "metadata": {},
   "outputs": [
    {
     "data": {
      "text/html": [
       "<div>\n",
       "<style>\n",
       "    .dataframe thead tr:only-child th {\n",
       "        text-align: right;\n",
       "    }\n",
       "\n",
       "    .dataframe thead th {\n",
       "        text-align: left;\n",
       "    }\n",
       "\n",
       "    .dataframe tbody tr th {\n",
       "        vertical-align: top;\n",
       "    }\n",
       "</style>\n",
       "<table border=\"1\" class=\"dataframe\">\n",
       "  <thead>\n",
       "    <tr style=\"text-align: right;\">\n",
       "      <th></th>\n",
       "      <th>weighted_visits</th>\n",
       "      <th>weighted_nights</th>\n",
       "      <th>weighted_spend</th>\n",
       "      <th>Year</th>\n",
       "    </tr>\n",
       "  </thead>\n",
       "  <tbody>\n",
       "    <tr>\n",
       "      <th>4968</th>\n",
       "      <td>0.000902</td>\n",
       "      <td>0.014662</td>\n",
       "      <td>0.030615</td>\n",
       "      <td>0.000000</td>\n",
       "    </tr>\n",
       "    <tr>\n",
       "      <th>9648</th>\n",
       "      <td>0.331649</td>\n",
       "      <td>0.312030</td>\n",
       "      <td>0.128904</td>\n",
       "      <td>0.333333</td>\n",
       "    </tr>\n",
       "    <tr>\n",
       "      <th>36107</th>\n",
       "      <td>0.081293</td>\n",
       "      <td>0.312166</td>\n",
       "      <td>0.208275</td>\n",
       "      <td>1.000000</td>\n",
       "    </tr>\n",
       "    <tr>\n",
       "      <th>1553</th>\n",
       "      <td>0.041908</td>\n",
       "      <td>0.020388</td>\n",
       "      <td>0.002431</td>\n",
       "      <td>0.000000</td>\n",
       "    </tr>\n",
       "    <tr>\n",
       "      <th>24973</th>\n",
       "      <td>0.119286</td>\n",
       "      <td>0.044935</td>\n",
       "      <td>0.101871</td>\n",
       "      <td>0.666667</td>\n",
       "    </tr>\n",
       "  </tbody>\n",
       "</table>\n",
       "</div>"
      ],
      "text/plain": [
       "       weighted_visits  weighted_nights  weighted_spend      Year\n",
       "4968          0.000902         0.014662        0.030615  0.000000\n",
       "9648          0.331649         0.312030        0.128904  0.333333\n",
       "36107         0.081293         0.312166        0.208275  1.000000\n",
       "1553          0.041908         0.020388        0.002431  0.000000\n",
       "24973         0.119286         0.044935        0.101871  0.666667"
      ]
     },
     "execution_count": 9,
     "metadata": {},
     "output_type": "execute_result"
    }
   ],
   "source": [
    "#normalise the continuous variables (and Year) for testing set \n",
    "test_continuous = test[['weighted_visits','weighted_nights','weighted_spend', 'Year']]\n",
    "\n",
    "min_max_scaler = preprocessing.MinMaxScaler()\n",
    "x_scaled = min_max_scaler.fit_transform(test_continuous)\n",
    "\n",
    "testcnew = pd.DataFrame(x_scaled, columns=test_continuous.columns, index=test_continuous.index)\n",
    "\n",
    "testcnew.head()"
   ]
  },
  {
   "cell_type": "code",
   "execution_count": 10,
   "metadata": {},
   "outputs": [
    {
     "name": "stdout",
     "output_type": "stream",
     "text": [
      "(25391, 66)\n",
      "(10883, 66)\n"
     ]
    }
   ],
   "source": [
    "#Add DF of continuous variables and categorical variables together for a complete training set\n",
    "train_new = sample_data_train_encoded.join(traincnew)\n",
    "#Do the same for test data\n",
    "test_new = sample_data_test_encoded.join(testcnew)\n",
    "\n",
    "print(train_new.shape)\n",
    "print(test_new.shape)"
   ]
  },
  {
   "cell_type": "markdown",
   "metadata": {},
   "source": [
    "### Initial Accuracy Test for Potential Models using K fold Evluation"
   ]
  },
  {
   "cell_type": "code",
   "execution_count": 9,
   "metadata": {},
   "outputs": [
    {
     "name": "stdout",
     "output_type": "stream",
     "text": [
      "LR: 0.803631 (0.005393)\n",
      "RF: 0.811981 (0.005317)\n",
      "KNN: 0.769485 (0.005202)\n",
      "CART: 0.777087 (0.005655)\n",
      "NB: 0.481431 (0.012701)\n"
     ]
    },
    {
     "data": {
      "image/png": "[encoded data removed]",
      "text/plain": [
       "<matplotlib.figure.Figure at 0x230c949c320>"
      ]
     },
     "metadata": {},
     "output_type": "display_data"
    }
   ],
   "source": [
    "'''\n",
    "************************************************************************\n",
    "* Title: How to Compare Machine Learning Algorithms in Python with scikit-learn\n",
    "* Author: Jason Brownlee\n",
    "* Date: 01st June 2016\n",
    "* Code Version: n/a\n",
    "* Availability: https://machinelearningmastery.com/compare-machine-learning-algorithms-python-scikit-learn/\n",
    "* Adapted: SVC model not included \n",
    "************************************************************************\n",
    "'''\n",
    "from sklearn.model_selection import cross_val_predict\n",
    "from sklearn.metrics import confusion_matrix\n",
    "from sklearn import model_selection\n",
    "from sklearn.linear_model import LogisticRegression\n",
    "from sklearn.tree import DecisionTreeClassifier\n",
    "from sklearn.ensemble import RandomForestClassifier\n",
    "from sklearn.neighbors import KNeighborsClassifier\n",
    "from sklearn.naive_bayes import GaussianNB\n",
    "import matplotlib.pyplot as plt\n",
    "\n",
    "train_new_a = train_new.values\n",
    "train_labels_a = train_labels.values\n",
    "\n",
    "seed = 7\n",
    "\n",
    "models = []\n",
    "models.append(('LR', LogisticRegression()))\n",
    "models.append(('RF', RandomForestClassifier()))\n",
    "models.append(('KNN', KNeighborsClassifier()))\n",
    "models.append(('CART', DecisionTreeClassifier()))\n",
    "models.append(('NB', GaussianNB()))\n",
    "\n",
    "\n",
    "#Evaluate each model\n",
    "results = []\n",
    "names = []\n",
    "scoring = 'accuracy'\n",
    "\n",
    "for name, model in models:\n",
    "    kfold = model_selection.KFold(n_splits = 10, random_state = seed)\n",
    "    cv_results = model_selection.cross_val_score(model, train_new_a, train_labels_a.ravel(), cv=kfold, scoring=scoring)\n",
    "    \n",
    "    results.append(cv_results)\n",
    "    names.append(name)\n",
    "    msg = \"%s: %f (%f)\" % (name, cv_results.mean(), cv_results.std())\n",
    "    \n",
    "    print(msg)\n",
    "    \n",
    "#boxplot for comparison\n",
    "fig = plt.figure()\n",
    "fig.suptitle('Algorithm Comparison')\n",
    "ax = fig.add_subplot(111)\n",
    "plt.boxplot(results)\n",
    "ax.set_xticklabels(names)\n",
    "plt.show()"
   ]
  },
  {
   "cell_type": "markdown",
   "metadata": {},
   "source": [
    "Having applied KFold Validation to a number of possible classification algorithms, it seems that we have a strong accuracy rating from the following models:\n",
    "\n",
    " * Logistic Regression\n",
    " * Random Forests \n",
    " * K Nearest Neighbour\n",
    " * Decision Tree Classifier"
   ]
  },
  {
   "cell_type": "markdown",
   "metadata": {},
   "source": [
    "### Let's Look at LR First"
   ]
  },
  {
   "cell_type": "code",
   "execution_count": 10,
   "metadata": {
    "collapsed": true
   },
   "outputs": [],
   "source": [
    "train_labels = pd.Series(train_labels)"
   ]
  },
  {
   "cell_type": "code",
   "execution_count": 11,
   "metadata": {},
   "outputs": [
    {
     "name": "stdout",
     "output_type": "stream",
     "text": [
      "---- Training Data ---\n",
      "0.805049033122\n",
      "[[18935  1208]\n",
      " [ 3742  1506]]\n",
      "---- Test Data ----\n",
      "0.805843976845\n",
      "[[8109  520]\n",
      " [1593  661]]\n"
     ]
    },
    {
     "data": {
      "text/plain": [
       "Independent        8629\n",
       "Non-Independent    2254\n",
       "Name: holiday_package, dtype: int64"
      ]
     },
     "execution_count": 11,
     "metadata": {},
     "output_type": "execute_result"
    }
   ],
   "source": [
    "from sklearn.linear_model import LogisticRegression\n",
    "log=LogisticRegression()\n",
    "log.fit(train_new,train_labels)\n",
    "\n",
    "# Checking the model's accuracy\n",
    "print('---- Training Data ---')\n",
    "print(accuracy_score(train_labels, log.predict(train_new)))\n",
    "print(confusion_matrix(train_labels, log.predict(train_new)))\n",
    "print('---- Test Data ----')\n",
    "print(accuracy_score(test_labels,log.predict(test_new)))\n",
    "print(confusion_matrix(test_labels,log.predict(test_new)))\n",
    "test_labels.value_counts()"
   ]
  },
  {
   "cell_type": "code",
   "execution_count": 12,
   "metadata": {},
   "outputs": [
    {
     "name": "stdout",
     "output_type": "stream",
     "text": [
      "                 precision    recall  f1-score   support\n",
      "\n",
      "    Independent       0.84      0.94      0.88      8629\n",
      "Non-Independent       0.56      0.29      0.38      2254\n",
      "\n",
      "    avg / total       0.78      0.81      0.78     10883\n",
      "\n"
     ]
    }
   ],
   "source": [
    "#Print a classification report for the test\n",
    "print(metrics.classification_report(test_labels, log.predict(test_new)))"
   ]
  },
  {
   "cell_type": "markdown",
   "metadata": {},
   "source": [
    "### What is the Problem?\n",
    "\n",
    "**Unbalanced data means that everything is being classified as Independent, hence the high accuracy rate.**\n",
    "\n",
    "But, our target data set is Non-Independent, so the model is no good to use if it does not classift these at all!"
   ]
  },
  {
   "cell_type": "markdown",
   "metadata": {},
   "source": [
    "### Using Class Weights with LogisticRegression"
   ]
  },
  {
   "cell_type": "code",
   "execution_count": 13,
   "metadata": {},
   "outputs": [
    {
     "name": "stdout",
     "output_type": "stream",
     "text": [
      "0.730588992006\n",
      "[[6062 2567]\n",
      " [ 365 1889]]\n"
     ]
    },
    {
     "data": {
      "text/plain": [
       "Independent        8629\n",
       "Non-Independent    2254\n",
       "Name: holiday_package, dtype: int64"
      ]
     },
     "execution_count": 13,
     "metadata": {},
     "output_type": "execute_result"
    }
   ],
   "source": [
    "# Fitting a logistic regression model\n",
    "#when balanced there's a more even distribution \n",
    "from sklearn.linear_model import LogisticRegression\n",
    "log=LogisticRegression(class_weight='balanced')\n",
    "log.fit(train_new,train_labels)\n",
    "\n",
    "# Checking the model's accuracy\n",
    "print(accuracy_score(test_labels,log.predict(test_new)))\n",
    "print(confusion_matrix(test_labels,log.predict(test_new)))\n",
    "test_labels.value_counts()"
   ]
  },
  {
   "cell_type": "code",
   "execution_count": 14,
   "metadata": {},
   "outputs": [
    {
     "name": "stdout",
     "output_type": "stream",
     "text": [
      "                 precision    recall  f1-score   support\n",
      "\n",
      "    Independent       0.94      0.70      0.81      8629\n",
      "Non-Independent       0.42      0.84      0.56      2254\n",
      "\n",
      "    avg / total       0.84      0.73      0.76     10883\n",
      "\n"
     ]
    }
   ],
   "source": [
    "#Print a classification report for the test\n",
    "print(metrics.classification_report(test_labels, log.predict(test_new)))"
   ]
  },
  {
   "cell_type": "markdown",
   "metadata": {},
   "source": [
    "Generally, the model is a **good predictor of Independent** but an **unreliable predictor of Non-Independent**, as it is not possible for us to be assured that the Non-Independent class is always correctly identifying instances.\n"
   ]
  },
  {
   "cell_type": "markdown",
   "metadata": {},
   "source": [
    "### What weights can we apply to Logistic Regression to get the best outcome?"
   ]
  },
  {
   "cell_type": "code",
   "execution_count": 15,
   "metadata": {
    "collapsed": true
   },
   "outputs": [],
   "source": [
    "#Binary encodings for train target\n",
    "train_labels_binary = train_labels.replace({'Independent': 0, 'Non-Independent': 1})\n"
   ]
  },
  {
   "cell_type": "code",
   "execution_count": 16,
   "metadata": {
    "collapsed": true
   },
   "outputs": [],
   "source": [
    "#Binary encodings for test target\n",
    "test_labels_binary = test_labels.replace({'Independent': 0, 'Non-Independent': 1})"
   ]
  },
  {
   "cell_type": "code",
   "execution_count": 17,
   "metadata": {
    "scrolled": true
   },
   "outputs": [
    {
     "name": "stdout",
     "output_type": "stream",
     "text": [
      "For weight 1\n",
      "0.833817486545\n",
      "For weight 5\n",
      "0.833490284665\n",
      "For weight 10\n",
      "0.832964777057\n",
      "For weight 20\n",
      "0.832056642738\n",
      "For weight 50\n",
      "0.830076567502\n",
      "For weight 100\n",
      "0.82816302263\n",
      "For weight 10000\n",
      "0.820768383537\n"
     ]
    },
    {
     "data": {
      "image/png": "[encoded data removed]",
      "text/plain": [
       "<matplotlib.figure.Figure at 0x230c8829f98>"
      ]
     },
     "metadata": {},
     "output_type": "display_data"
    }
   ],
   "source": [
    "#Compute ROC curve to understand if our data is actually working\n",
    "'''\n",
    "************************************************************************\n",
    "* Title: Imbalanced data & why you should NOT use ROC curve\n",
    "* Author: Kaggle (LCT14558 user)\n",
    "* Date: n/a\n",
    "* Code Version: n/a\n",
    "* Availability: https://www.kaggle.com/lct14558/imbalanced-data-why-you-should-not-use-roc-curve \n",
    "************************************************************************\n",
    "'''\n",
    "\n",
    "fig = plt.figure(figsize=(15,8))\n",
    "ax1 = fig.add_subplot(1,2,1)\n",
    "ax1.set_xlim([-0.05,1.05])\n",
    "ax1.set_ylim([-0.05,1.05])\n",
    "ax1.set_xlabel('Recall')\n",
    "ax1.set_ylabel('Precision')\n",
    "ax1.set_title('PR Curve')\n",
    "\n",
    "ax2 = fig.add_subplot(1,2,2)\n",
    "ax2.set_xlim([-0.05,1.05])\n",
    "ax2.set_ylim([-0.05,1.05])\n",
    "ax2.set_xlabel('False Positive Rate')\n",
    "ax2.set_ylabel('True Positive Rate')\n",
    "ax2.set_title('ROC Curve')\n",
    "\n",
    "\n",
    "for w,k in zip([1,5,10,20,50,100,10000],'bgrcmykw'):\n",
    "    lr_model = LogisticRegression(class_weight={0:1,1:w})\n",
    "    lr_model.fit(train_new,train_labels_binary)\n",
    "    pred_prob = lr_model.predict_proba(test_new)[:,1]\n",
    "\n",
    "    #PR curve\n",
    "    p,r,_ = metrics.precision_recall_curve(test_labels_binary,pred_prob)\n",
    "    #ROC curve\n",
    "    tpr,fpr,_ = metrics.roc_curve(test_labels_binary,pred_prob)\n",
    "    \n",
    "    ax1.plot(r,p,c=k,label=w)\n",
    "    ax2.plot(tpr,fpr,c=k,label=w)\n",
    "    \n",
    "    print('For weight %d' % w),\n",
    "    #Print Area Under the Curve, should be between 0.5 and 1\n",
    "    print(metrics.roc_auc_score(test_labels_binary,pred_prob))\n",
    "          \n",
    "ax1.legend(loc='lower left')    \n",
    "ax2.legend(loc='lower left')\n",
    "\n",
    "plt.show()\n"
   ]
  },
  {
   "cell_type": "markdown",
   "metadata": {},
   "source": [
    "Interestingly it seems that by just manually selecting a range of weights to boost the minority class,the model still has a similar ROC curve which is fairly good, but a poor PR curve."
   ]
  },
  {
   "cell_type": "code",
   "execution_count": 18,
   "metadata": {},
   "outputs": [
    {
     "name": "stdout",
     "output_type": "stream",
     "text": [
      "---- Training Data ---\n",
      "0.805049033122\n",
      "[[18935  1208]\n",
      " [ 3742  1506]]\n",
      "0    20143\n",
      "1     5248\n",
      "Name: holiday_package, dtype: int64\n",
      "--- Test Data: ---\n",
      "0.805843976845\n",
      "[[8109  520]\n",
      " [1593  661]]\n"
     ]
    },
    {
     "data": {
      "text/plain": [
       "0    8629\n",
       "1    2254\n",
       "Name: holiday_package, dtype: int64"
      ]
     },
     "execution_count": 18,
     "metadata": {},
     "output_type": "execute_result"
    }
   ],
   "source": [
    "#Lets fit the Logic Regression curve again with weights as 1\n",
    "\n",
    "from sklearn.linear_model import LogisticRegression\n",
    "log_=LogisticRegression(class_weight={0:1,1:1})\n",
    "log_.fit(train_new, train_labels_binary)\n",
    "\n",
    "# Checking the model's accuracy\n",
    "print('---- Training Data ---')\n",
    "print(accuracy_score(train_labels_binary, log_.predict(train_new)))\n",
    "print(confusion_matrix(train_labels_binary,log_.predict(train_new)))\n",
    "print(train_labels_binary.value_counts())\n",
    "print('--- Test Data: ---')\n",
    "print(accuracy_score(test_labels_binary,log_.predict(test_new)))\n",
    "print(confusion_matrix(test_labels_binary,log_.predict(test_new)))\n",
    "test_labels_binary.value_counts()"
   ]
  },
  {
   "cell_type": "code",
   "execution_count": 19,
   "metadata": {},
   "outputs": [
    {
     "name": "stdout",
     "output_type": "stream",
     "text": [
      "             precision    recall  f1-score   support\n",
      "\n",
      "          0       0.84      0.94      0.88      8629\n",
      "          1       0.56      0.29      0.38      2254\n",
      "\n",
      "avg / total       0.78      0.81      0.78     10883\n",
      "\n"
     ]
    }
   ],
   "source": [
    "print(metrics.classification_report(test_labels_binary, log_.predict(test_new)))"
   ]
  },
  {
   "cell_type": "markdown",
   "metadata": {},
   "source": [
    "If we set the weights to 1, the confusion matrix improves only recall for Independent instances and precision for Non-Independent. F1 score of Non-Independent falls by a lot but at least we are not experiencing overfitting. "
   ]
  },
  {
   "cell_type": "markdown",
   "metadata": {},
   "source": [
    "### New Method - Use SMOTE to balance the data"
   ]
  },
  {
   "cell_type": "code",
   "execution_count": 11,
   "metadata": {},
   "outputs": [],
   "source": [
    "#Import SMOTE\n",
    "#Need to install conda install -c conda-forge imbalanced-learn\n",
    "from imblearn.over_sampling import SMOTE\n",
    "\n",
    "sm = SMOTE(ratio='minority')\n",
    "\n",
    "#Fit to training data\n",
    "train_new_sm, train_labels_sm = sm.fit_sample(train_new, train_labels)"
   ]
  },
  {
   "cell_type": "code",
   "execution_count": 12,
   "metadata": {},
   "outputs": [
    {
     "name": "stdout",
     "output_type": "stream",
     "text": [
      "(40286, 66)\n",
      "Independent        20143\n",
      "Non-Independent    20143\n",
      "dtype: int64\n"
     ]
    }
   ],
   "source": [
    "#Convert to Series / DataFrames for use\n",
    "train_labels_sm = pd.Series(train_labels_sm)\n",
    "train_new_sm = pd.DataFrame(train_new_sm, columns=train_new.columns)\n",
    "\n",
    "print(train_new_sm.shape)\n",
    "print(train_labels_sm.value_counts())"
   ]
  },
  {
   "cell_type": "markdown",
   "metadata": {},
   "source": [
    "### Try the algorithm comparison with SMOTE sampling"
   ]
  },
  {
   "cell_type": "code",
   "execution_count": 22,
   "metadata": {},
   "outputs": [
    {
     "name": "stdout",
     "output_type": "stream",
     "text": [
      "LR: 0.769156 (0.048448)\n",
      "RF: 0.883564 (0.055938)\n",
      "KNN: 0.746358 (0.163409)\n",
      "CART: 0.840994 (0.056984)\n"
     ]
    },
    {
     "data": {
      "image/png": "[encoded data removed]",
      "text/plain": [
       "<matplotlib.figure.Figure at 0x230c8a56c88>"
      ]
     },
     "metadata": {},
     "output_type": "display_data"
    }
   ],
   "source": [
    "'''\n",
    "************************************************************************\n",
    "* Title: How to Compare Machine Learning Algorithms in Python with scikit-learn\n",
    "* Author: Jason Brownlee\n",
    "* Date: 01st June 2016\n",
    "* Code Version: n/a\n",
    "* Availability: https://machinelearningmastery.com/compare-machine-learning-algorithms-python-scikit-learn/\n",
    "* Adapted: Only LR, RF, and CART models used for comparison\n",
    "************************************************************************\n",
    "'''\n",
    "\n",
    "seed = 7\n",
    "\n",
    "models = []\n",
    "models.append(('LR', LogisticRegression()))\n",
    "models.append(('RF', RandomForestClassifier()))\n",
    "models.append(('KNN', KNeighborsClassifier()))\n",
    "models.append(('CART', DecisionTreeClassifier()))\n",
    "\n",
    "\n",
    "#Evaluate each model\n",
    "results = []\n",
    "names = []\n",
    "scoring = 'accuracy'\n",
    "\n",
    "for name, model in models:\n",
    "    kfold = model_selection.KFold(n_splits = 10, random_state = seed)\n",
    "    cv_results = model_selection.cross_val_score(model, train_new_sm, train_labels_sm.values.ravel(), cv=kfold, scoring=scoring)\n",
    "    \n",
    "    results.append(cv_results)\n",
    "    names.append(name)\n",
    "    msg = \"%s: %f (%f)\" % (name, cv_results.mean(), cv_results.std())\n",
    "    \n",
    "    print(msg)\n",
    "    \n",
    "#boxplot for comparison\n",
    "fig = plt.figure()\n",
    "fig.suptitle('Algorithm Comparison')\n",
    "ax = fig.add_subplot(111)\n",
    "plt.boxplot(results)\n",
    "ax.set_xticklabels(names)\n",
    "plt.show()"
   ]
  },
  {
   "cell_type": "markdown",
   "metadata": {},
   "source": [
    "### KNN with SMOTE balanced data"
   ]
  },
  {
   "cell_type": "code",
   "execution_count": 23,
   "metadata": {},
   "outputs": [
    {
     "name": "stdout",
     "output_type": "stream",
     "text": [
      "***ACCURACY***\n",
      "0.600477809428\n",
      "***CONFUSION MATRIX***\n",
      "[[4746 3883]\n",
      " [ 465 1789]]\n",
      "------ Training Classification Report -------\n",
      "                 precision    recall  f1-score   support\n",
      "\n",
      "    Independent       0.98      0.65      0.78     20143\n",
      "Non-Independent       0.74      0.99      0.84     20143\n",
      "\n",
      "    avg / total       0.86      0.82      0.81     40286\n",
      "\n",
      "------- Testing Classification Report -------\n",
      "                 precision    recall  f1-score   support\n",
      "\n",
      "    Independent       0.91      0.55      0.69      8629\n",
      "Non-Independent       0.32      0.79      0.45      2254\n",
      "\n",
      "    avg / total       0.79      0.60      0.64     10883\n",
      "\n"
     ]
    }
   ],
   "source": [
    "#default KNN \n",
    "'''\n",
    "************************************************************************\n",
    "* Title: K-nearest Neighbors (KNN) Classification Model\n",
    "* Author: Ritchie Ng\n",
    "* Date: n/a\n",
    "* Code Version: n/a\n",
    "* Availability: http://www.ritchieng.com/machine-learning-k-nearest-neighbors-knn/ \n",
    "************************************************************************\n",
    "'''\n",
    "knnDef = KNeighborsClassifier()\n",
    "knnDef.fit(train_new_sm, train_labels_sm)\n",
    "y_prediction = knnDef.predict(test_new)\n",
    "\n",
    "print('***ACCURACY***')\n",
    "print(metrics.accuracy_score(test_labels, y_prediction))\n",
    "print('***CONFUSION MATRIX***')\n",
    "print(confusion_matrix(test_labels,y_prediction))\n",
    "# training vs testing evaluation\n",
    "print('------ Training Classification Report -------')\n",
    "print(metrics.classification_report(train_labels_sm, knnDef.predict(train_new_sm)))\n",
    "\n",
    "print('------- Testing Classification Report -------')\n",
    "print(metrics.classification_report(test_labels, y_prediction))"
   ]
  },
  {
   "cell_type": "markdown",
   "metadata": {},
   "source": [
    "Accuracy is very low so we will try to find an optimal number for n_neighbors parameter"
   ]
  },
  {
   "cell_type": "code",
   "execution_count": 24,
   "metadata": {
    "collapsed": true
   },
   "outputs": [],
   "source": [
    "#knn best k selection\n",
    "k_range = list(range(1, 31))\n",
    "scores = []\n",
    "for k in k_range:\n",
    "    knn = KNeighborsClassifier(n_neighbors=k)\n",
    "    knn.fit(train_new_sm, train_labels_sm.values.ravel())\n",
    "    y_pred = knn.predict(test_new)\n",
    "    scores.append(metrics.accuracy_score(test_labels, y_pred))"
   ]
  },
  {
   "cell_type": "code",
   "execution_count": 25,
   "metadata": {},
   "outputs": [
    {
     "data": {
      "text/plain": [
       "Text(0,0.5,'Testing Accuracy')"
      ]
     },
     "execution_count": 25,
     "metadata": {},
     "output_type": "execute_result"
    },
    {
     "data": {
      "image/png": "[encoded data removed]",
      "text/plain": [
       "<matplotlib.figure.Figure at 0x230c83a61d0>"
      ]
     },
     "metadata": {},
     "output_type": "display_data"
    }
   ],
   "source": [
    "# allow plots to appear within the notebook\n",
    "%matplotlib inline\n",
    "\n",
    "# plot the relationship between K and testing accuracy\n",
    "plt.plot(k_range, scores)\n",
    "plt.xlabel('Value of K for KNN')\n",
    "plt.ylabel('Testing Accuracy')\n"
   ]
  },
  {
   "cell_type": "code",
   "execution_count": 26,
   "metadata": {},
   "outputs": [
    {
     "data": {
      "text/plain": [
       "[0.64329688505007809,\n",
       " 0.67398695212717086,\n",
       " 0.60369383442065605,\n",
       " 0.63557842506661766,\n",
       " 0.60047780942754758,\n",
       " 0.63181108150326193,\n",
       " 0.62298998437930719,\n",
       " 0.65018836717816775,\n",
       " 0.64467518147569602,\n",
       " 0.66599283285858679,\n",
       " 0.65505834788201778,\n",
       " 0.6734356335569236,\n",
       " 0.661857943581733,\n",
       " 0.6769273178351557,\n",
       " 0.66571717357346316,\n",
       " 0.68014334282826427,\n",
       " 0.67132224570430943,\n",
       " 0.68345125424974729,\n",
       " 0.67380317927042177,\n",
       " 0.68446200496186715,\n",
       " 0.67371129284204723,\n",
       " 0.68170541211063129,\n",
       " 0.67380317927042177,\n",
       " 0.68041900211338791,\n",
       " 0.67178167784618215,\n",
       " 0.67950013782964258,\n",
       " 0.67159790498943306,\n",
       " 0.67747863640540296,\n",
       " 0.67067904070568773,\n",
       " 0.67619222640815957]"
      ]
     },
     "execution_count": 26,
     "metadata": {},
     "output_type": "execute_result"
    }
   ],
   "source": [
    "scores"
   ]
  },
  {
   "cell_type": "code",
   "execution_count": 27,
   "metadata": {},
   "outputs": [
    {
     "name": "stdout",
     "output_type": "stream",
     "text": [
      "***ACCURACY***\n",
      "0.681705412111\n",
      "***CONFUSION MATRIX***\n",
      "[[5435 3194]\n",
      " [ 270 1984]]\n"
     ]
    }
   ],
   "source": [
    "knn = KNeighborsClassifier(n_neighbors=22)\n",
    "knn.fit(train_new_sm, train_labels_sm)\n",
    "y_predict = knn.predict(test_new)\n",
    "\n",
    "print('***ACCURACY***')\n",
    "print(metrics.accuracy_score(test_labels, y_predict))\n",
    "print('***CONFUSION MATRIX***')\n",
    "print(confusion_matrix(test_labels,y_predict))"
   ]
  },
  {
   "cell_type": "code",
   "execution_count": 28,
   "metadata": {},
   "outputs": [
    {
     "name": "stdout",
     "output_type": "stream",
     "text": [
      "------ Training Classification Report -------\n",
      "                 precision    recall  f1-score   support\n",
      "\n",
      "    Independent       0.93      0.64      0.76     20143\n",
      "Non-Independent       0.72      0.95      0.82     20143\n",
      "\n",
      "    avg / total       0.83      0.79      0.79     40286\n",
      "\n",
      "------- Testing Classification Report -------\n",
      "                 precision    recall  f1-score   support\n",
      "\n",
      "    Independent       0.95      0.63      0.76      8629\n",
      "Non-Independent       0.38      0.88      0.53      2254\n",
      "\n",
      "    avg / total       0.83      0.68      0.71     10883\n",
      "\n"
     ]
    }
   ],
   "source": [
    "# training vs testing evaluation\n",
    "print('------ Training Classification Report -------')\n",
    "print(metrics.classification_report(train_labels_sm, knn.predict(train_new_sm)))\n",
    "\n",
    "print('------- Testing Classification Report -------')\n",
    "print(metrics.classification_report(test_labels, y_predict))"
   ]
  },
  {
   "cell_type": "markdown",
   "metadata": {},
   "source": [
    "### Feature Selection using RFE"
   ]
  },
  {
   "cell_type": "code",
   "execution_count": 29,
   "metadata": {},
   "outputs": [
    {
     "name": "stdout",
     "output_type": "stream",
     "text": [
      "The optimal number of features for RF is 33\n",
      "The selected features are:\n",
      "['Age_ 0-15', 'Age_16-24', 'Age_25-34', 'Age_35-44', 'Age_45-54', 'Age_55-64', 'Age_65 & over', 'Sex_Female', 'Sex_Male', 'country_France', 'country_Germany', 'country_Irish Republic', 'country_Italy', 'country_Netherlands', 'country_Poland', 'country_Portugal', 'country_Spain', 'duration_1 - 3 Nights', 'duration_28 - 90 Nights', 'duration_4 - 13 Nights', 'mode_of_transport_Air', 'mode_of_transport_Tunnel', 'purpose_of_travel_Business', 'purpose_of_travel_Holiday', 'purpose_of_travel_VFR', 'quarter_Apr-Jun', 'quarter_Jan-Mar', 'quarter_Jul-Sep', 'quarter_Oct-Dec', 'weighted_visits', 'weighted_nights', 'weighted_spend', 'Year']\n",
      "--------------------------------------------------------------------------------------\n",
      "The optimal number of features for CART is 33\n",
      "The selected features are:\n",
      "['Age_ 0-15', 'Age_16-24', 'Age_25-34', 'Age_35-44', 'Age_45-54', 'Age_55-64', 'Age_65 & over', 'Sex_Female', 'Sex_Male', 'country_Denmark', 'country_France', 'country_Germany', 'country_Greece', 'country_Irish Republic', 'country_Italy', 'country_Netherlands', 'country_Poland', 'country_Portugal', 'country_Spain', 'duration_28 - 90 Nights', 'duration_4 - 13 Nights', 'mode_of_transport_Air', 'mode_of_transport_Tunnel', 'purpose_of_travel_Holiday', 'purpose_of_travel_Miscellaneous', 'quarter_Apr-Jun', 'quarter_Jan-Mar', 'quarter_Jul-Sep', 'quarter_Oct-Dec', 'weighted_visits', 'weighted_nights', 'weighted_spend', 'Year']\n",
      "--------------------------------------------------------------------------------------\n",
      "The optimal number of features for LR is 33\n",
      "The selected features are:\n",
      "['country_Cyprus EU', 'country_Cyprus Non EU', 'country_Denmark', 'country_Estonia', 'country_Gibraltar', 'country_Irish Republic', 'country_Latvia', 'country_Lithuania', 'country_Luxembourg', 'country_Norway', 'country_Other Europe', 'country_Portugal', 'country_Romania', 'country_Russia', 'country_Slovakia', 'country_Slovenia', 'country_Spain', 'country_Sweden', 'country_Switzerland', 'country_Turkey', 'duration_1 - 3 Nights', 'duration_28 - 90 Nights', 'duration_3 - 6 Months', 'duration_4 - 13 Nights', 'duration_6 Months - Year', 'mode_of_transport_Tunnel', 'purpose_of_travel_Business', 'purpose_of_travel_Holiday', 'purpose_of_travel_Study', 'purpose_of_travel_VFR', 'weighted_visits', 'weighted_nights', 'weighted_spend']\n",
      "--------------------------------------------------------------------------------------\n"
     ]
    }
   ],
   "source": [
    "#Feature selection - following code adapted to RFE rather than RFECV and new loop added to save features into features2 dictionary\n",
    "'''\n",
    "************************************************************************\n",
    "* Title: Select Features RFECV\n",
    "* Author: cast42\n",
    "* Date: n/a\n",
    "* Code Version: n/a\n",
    "* Availability: https://www.kaggle.com/cast42/select-features-rfecv/code \n",
    "************************************************************************\n",
    "'''\n",
    "\n",
    "from sklearn.feature_selection import RFE  \n",
    "\n",
    "classifiers = []\n",
    "features2 = {}\n",
    "classifiers.append(('RF', RandomForestClassifier()))\n",
    "classifiers.append(('CART', DecisionTreeClassifier()))\n",
    "classifiers.append(('LR', LogisticRegression()))\n",
    "\n",
    "for name, classifier in classifiers:\n",
    "    selector = RFE(estimator=classifier) #, scoring='accuracy'\n",
    "    selector.fit(train_new_sm, train_labels_sm)\n",
    "\n",
    "    print('The optimal number of features for %s' % (name), 'is {}'.format(selector.n_features_))\n",
    "    features2[name] = [f for f,s in zip(train_new_sm.columns, selector.support_) if s]\n",
    "    print('The selected features are:')\n",
    "    print ('{}'.format(features2[name]))\n",
    "    print('--------------------------------------------------------------------------------------')"
   ]
  },
  {
   "cell_type": "markdown",
   "metadata": {},
   "source": [
    "### Testing LR, RF and CART with Feature Selection and SMOTE sampling"
   ]
  },
  {
   "cell_type": "code",
   "execution_count": 30,
   "metadata": {},
   "outputs": [
    {
     "name": "stdout",
     "output_type": "stream",
     "text": [
      "LR: 0.737480\n",
      "RF: 0.800331\n",
      "CART: 0.760176\n"
     ]
    }
   ],
   "source": [
    "#code inspired by Jason Brownlee (https://machinelearningmastery.com/compare-machine-learning-algorithms-python-scikit-learn/)\n",
    "\n",
    "fs_models = []\n",
    "fs_models.append(('LR', LogisticRegression()))\n",
    "fs_models.append(('RF', RandomForestClassifier()))\n",
    "fs_models.append(('CART', DecisionTreeClassifier()))\n",
    "\n",
    "\n",
    "for name, model in fs_models:\n",
    "        \n",
    "    resultss = model\n",
    "    resultss.fit(train_new_sm[features2[name]], train_labels_sm.values)\n",
    "    \n",
    "    fs_pred = resultss.predict(test_new[features2[name]])\n",
    "    print('%s: %f' % (name, accuracy_score(test_labels, fs_pred)))"
   ]
  },
  {
   "cell_type": "markdown",
   "metadata": {},
   "source": [
    "We now make a similar loop to see what the accuracy of these three models is without feature selection, for comparison."
   ]
  },
  {
   "cell_type": "code",
   "execution_count": 31,
   "metadata": {},
   "outputs": [
    {
     "name": "stdout",
     "output_type": "stream",
     "text": [
      "LR: 0.741891\n",
      "RF: 0.810346\n",
      "CART: 0.775521\n"
     ]
    }
   ],
   "source": [
    "all_models = []\n",
    "all_models.append(('LR', LogisticRegression()))\n",
    "all_models.append(('RF', RandomForestClassifier()))\n",
    "all_models.append(('CART', DecisionTreeClassifier()))\n",
    "\n",
    "for name, model in all_models:\n",
    "    \n",
    "    results_all_features = model\n",
    "    results_all_features.fit(train_new_sm, train_labels_sm)\n",
    "    \n",
    "    pred_all_features = results_all_features.predict(test_new)\n",
    "    print('%s: %f' % (name, accuracy_score(test_labels, pred_all_features)))"
   ]
  },
  {
   "cell_type": "markdown",
   "metadata": {},
   "source": [
    "Summary: There is no major improvement when Feature Selection is applied to SMOTE, in fact accuracy scores are slightly lower.\n",
    "\n",
    "# Parameter Tuning\n",
    "#### Decision Tree"
   ]
  },
  {
   "cell_type": "code",
   "execution_count": 32,
   "metadata": {
    "collapsed": true
   },
   "outputs": [],
   "source": [
    "#tranforming labels to binary - 0 and 1\n",
    "train_labels_binary_sm = train_labels_sm.replace({'Independent': 0, 'Non-Independent': 1})\n",
    "train_labels_binary_sm = pd.Series(train_labels_binary_sm)\n",
    "\n",
    "test_labels_binary = test_labels.replace({'Independent': 0, 'Non-Independent': 1})\n",
    "test_labels_binary = pd.Series(test_labels_binary)"
   ]
  },
  {
   "cell_type": "code",
   "execution_count": 33,
   "metadata": {},
   "outputs": [
    {
     "name": "stdout",
     "output_type": "stream",
     "text": [
      "---- Training Data ---\n",
      "------ Accuracy -----\n",
      "0.999975177481\n",
      "------ Confusion matrix -----\n",
      "[[20143     0]\n",
      " [    1 20142]]\n",
      "\n",
      "---- Testing Data ---\n",
      "------ Accuracy -----\n",
      "0.780483322613\n",
      "------ Confusion matrix -----\n",
      "[[7239 1390]\n",
      " [ 999 1255]]\n"
     ]
    }
   ],
   "source": [
    "#original without parameters - random_state is set randomly as 7 \n",
    "dtree_model = DecisionTreeClassifier(random_state=7)\n",
    "dtree_model.fit(train_new_sm, train_labels_binary_sm)\n",
    "predDT = dtree_model.predict(test_new)\n",
    "\n",
    "# Evaluate accuracy for both, training and testing data\n",
    "print('---- Training Data ---')\n",
    "print('------ Accuracy -----')\n",
    "print(accuracy_score(train_labels_binary_sm, dtree_model.predict(train_new_sm)))\n",
    "print('------ Confusion matrix -----')\n",
    "print(confusion_matrix(train_labels_binary_sm, dtree_model.predict(train_new_sm)))\n",
    "print()\n",
    "print('---- Testing Data ---')\n",
    "print('------ Accuracy -----')\n",
    "print(accuracy_score(test_labels_binary, predDT))\n",
    "print('------ Confusion matrix -----')\n",
    "print(confusion_matrix(test_labels_binary,predDT))"
   ]
  },
  {
   "cell_type": "code",
   "execution_count": 34,
   "metadata": {},
   "outputs": [
    {
     "name": "stdout",
     "output_type": "stream",
     "text": [
      "------ Training Classification Report -------\n",
      "             precision    recall  f1-score   support\n",
      "\n",
      "          0       1.00      1.00      1.00     20143\n",
      "          1       1.00      1.00      1.00     20143\n",
      "\n",
      "avg / total       1.00      1.00      1.00     40286\n",
      "\n",
      "------- Testing Classification Report -------\n",
      "             precision    recall  f1-score   support\n",
      "\n",
      "          0       0.88      0.84      0.86      8629\n",
      "          1       0.47      0.56      0.51      2254\n",
      "\n",
      "avg / total       0.80      0.78      0.79     10883\n",
      "\n"
     ]
    }
   ],
   "source": [
    "#Print a classification report for the training\n",
    "print('------ Training Classification Report -------')\n",
    "print(metrics.classification_report(train_labels_binary_sm, dtree_model.predict(train_new_sm)))\n",
    "#Print a classification report for the test\n",
    "print('------- Testing Classification Report -------')\n",
    "print(metrics.classification_report(test_labels_binary, predDT))"
   ]
  },
  {
   "cell_type": "markdown",
   "metadata": {},
   "source": [
    "Looking at the accuracy of ~0.78, the model looks pretty capable of predicting better than by chance. Generally, 'independent' is predicted with considerably high accuracy, on the other hand, the precision for 'non-independent' is far from ideal. \n",
    "\n",
    "Another issue that could be observed is overfitting. The model predicted training data almost perfectly, only one 'independent value' was incorrectly classified as 'non-independent'. Overfitting is a side effect of decision trees and could be reduced by parameter tuning such as setting minimum number of samples at a leaf node or optimising maximum depth of the tree"
   ]
  },
  {
   "cell_type": "code",
   "execution_count": 35,
   "metadata": {},
   "outputs": [
    {
     "data": {
      "text/plain": [
       "0.69785160911447475"
      ]
     },
     "execution_count": 35,
     "metadata": {},
     "output_type": "execute_result"
    }
   ],
   "source": [
    "#max depth \n",
    "#using AUC score\n",
    "from sklearn.metrics import roc_curve, auc\n",
    "false_positive_rate, true_positive_rate, thresholds = roc_curve(test_labels_binary, predDT)\n",
    "roc_auc = auc(false_positive_rate, true_positive_rate)\n",
    "roc_auc"
   ]
  },
  {
   "cell_type": "code",
   "execution_count": 36,
   "metadata": {},
   "outputs": [
    {
     "data": {
      "image/png": "[encoded data removed]",
      "text/plain": [
       "<matplotlib.figure.Figure at 0x230c895cf28>"
      ]
     },
     "metadata": {},
     "output_type": "display_data"
    },
    {
     "name": "stdout",
     "output_type": "stream",
     "text": [
      "[0.73883246204607289, 0.74966560008999594, 0.75537813668298115, 0.75766780433245318, 0.77031428038774363, 0.76954743311564788, 0.77228196472903576, 0.76413160960394078, 0.76958306336436133, 0.75492951946054265, 0.75613169330674723, 0.75027987483242731, 0.74571922870434537, 0.74364023196988582, 0.73920071840452994, 0.7314882348713091, 0.72258056986392538, 0.71592452577578569, 0.71039227412813089, 0.71204630431029348, 0.70173977928577635, 0.70716138692876818, 0.69858794188063755, 0.69598395168353189, 0.69736466238205641, 0.69390495494907234, 0.69672082430194782, 0.69206243920878019, 0.69400269391415814, 0.6901555268068521, 0.69467812620470593, 0.69176451788674487, 0.69785160911447475]\n"
     ]
    }
   ],
   "source": [
    "max_depths = np.linspace(1, 66, 33, endpoint=True)\n",
    "train_results = []\n",
    "test_results = []\n",
    "\n",
    "for max_depth in max_depths:\n",
    "    dt = DecisionTreeClassifier(random_state = 7, max_depth=max_depth)\n",
    "    dt.fit(train_new_sm, train_labels_binary_sm)\n",
    "    train_pred = dt.predict(train_new_sm)\n",
    "    false_positive_rate, true_positive_rate, thresholds = roc_curve(train_labels_binary_sm, train_pred)\n",
    "    roc_auc = auc(false_positive_rate, true_positive_rate)\n",
    "    # Add auc score to previous train results\n",
    "    train_results.append(roc_auc)\n",
    "    y_pred = dt.predict(test_new)\n",
    "    false_positive_rate, true_positive_rate, thresholds = roc_curve(test_labels_binary, y_pred)\n",
    "    roc_auc = auc(false_positive_rate, true_positive_rate)\n",
    "    # Add auc score to previous test results\n",
    "    test_results.append(roc_auc)\n",
    "    \n",
    "from matplotlib.legend_handler import HandlerLine2D\n",
    "line1, = plt.plot(max_depths, train_results, 'b', label='Train AUC')\n",
    "line2, = plt.plot(max_depths, test_results, 'r', label='Test AUC')\n",
    "plt.legend(handler_map={line1: HandlerLine2D(numpoints=2)})\n",
    "plt.ylabel('AUC score')\n",
    "plt.xlabel('Tree depth')\n",
    "plt.show()\n",
    "\n",
    "print(test_results)"
   ]
  },
  {
   "cell_type": "markdown",
   "metadata": {},
   "source": [
    "The graph clearly shows that our model is overfitting. The blue line for train data is almost exemplary and the red line goes the opposite direction. Out of these values, 13 seems to be a great fit to imrove AUC. Let's see what effect it has on our model."
   ]
  },
  {
   "cell_type": "code",
   "execution_count": 37,
   "metadata": {},
   "outputs": [
    {
     "name": "stdout",
     "output_type": "stream",
     "text": [
      "------ Accuracy -----\n",
      "0.735826518423\n",
      "------ Confusion matrix -----\n",
      "[[6127 2502]\n",
      " [ 373 1881]]\n",
      "------ Report -----\n",
      "             precision    recall  f1-score   support\n",
      "\n",
      "          0       0.94      0.71      0.81      8629\n",
      "          1       0.43      0.83      0.57      2254\n",
      "\n",
      "avg / total       0.84      0.74      0.76     10883\n",
      "\n"
     ]
    }
   ],
   "source": [
    "dtree_model1 = DecisionTreeClassifier(max_depth = 13, random_state = 7)\n",
    "dtree_model1.fit(train_new_sm, train_labels_binary_sm)\n",
    "predDT1 = dtree_model1.predict(test_new)\n",
    "# Evaluate accuracy\n",
    "print('------ Accuracy -----')\n",
    "print(accuracy_score(test_labels_binary, predDT1))\n",
    "print('------ Confusion matrix -----')\n",
    "print(confusion_matrix(test_labels_binary,predDT1))\n",
    "print('------ Report -----')\n",
    "print(metrics.classification_report(test_labels_binary, predDT1))"
   ]
  },
  {
   "cell_type": "markdown",
   "metadata": {},
   "source": [
    "Overall accuracy of the model decreased, however, precision for 'independent' and recall for 'non-independent' increased to high numbers.F1 score for 'independent' decreased slightly and increased for 'non-independent'. \n",
    "There might be an option for finding better accuracy with max_depth parameter so we created a loop that would exactly look for that."
   ]
  },
  {
   "cell_type": "code",
   "execution_count": 38,
   "metadata": {},
   "outputs": [
    {
     "name": "stdout",
     "output_type": "stream",
     "text": [
      "------ Accuracy scores -----\n",
      "[0.66874942570982265, 0.68905632638059355, 0.70100156206928232, 0.6978774235045484, 0.69732610493430125, 0.70513645134613623, 0.70173665349627856, 0.70164476706790402, 0.71763300560507215, 0.73196728843149872, 0.73876688413121383, 0.73757236056234499, 0.73582651842322888, 0.73509142699623264, 0.74915005053753558, 0.75089589267665169, 0.75337682624276392, 0.75098777910502623, 0.75300928052926586, 0.7576954883763668, 0.75907378480198473, 0.75889001194523564, 0.75889001194523564, 0.75925755765873382, 0.75815492051823941, 0.76127905908297344, 0.76109528622622435, 0.76256546908021683, 0.76523017550307815, 0.76532206193145269, 0.76495451621795463, 0.76458697050445645, 0.76486262978958008, 0.76954883763668103, 0.76964072406505557, 0.77230543048791689, 0.77074336120554998, 0.77055958834880089, 0.77570522833777455, 0.77267297620141506, 0.77469447762565469, 0.77754295690526509, 0.77809427547551224, 0.77157033906092065, 0.77515390976752729, 0.77818616190388679, 0.77414315905540754, 0.77542956905265092, 0.77607277405127262, 0.77634843333639625, 0.77708352476339249, 0.77432693191215662, 0.77791050261876316, 0.77634843333639625, 0.77598088762289807, 0.77634843333639625, 0.77827804833226133, 0.77607277405127262, 0.77763484333363964, 0.77542956905265092, 0.77882936690250848, 0.7768997519066434, 0.77680786547826886, 0.77671597904989431, 0.78048332261325004, 0.78048332261325004]\n"
     ]
    }
   ],
   "source": [
    "max_depths = np.linspace(1, 66, 66, endpoint=True)\n",
    "test_results = []\n",
    "\n",
    "for max_depth in max_depths:\n",
    "    dt2 = DecisionTreeClassifier(random_state = 7, max_depth=max_depth)\n",
    "    dt2.fit(train_new_sm, train_labels_binary_sm)\n",
    "    test_pred = dt2.predict(test_new)\n",
    "    acc= accuracy_score(test_labels_binary, test_pred)\n",
    "    test_results.append(acc)\n",
    "\n",
    "print('------ Accuracy scores -----')\n",
    "print(test_results)"
   ]
  },
  {
   "cell_type": "markdown",
   "metadata": {},
   "source": [
    "Values 65 and 66 seems to have the highest accuracy of ~0.7804, which is exactly the same as the accuracy of the model without parameter tuning."
   ]
  },
  {
   "cell_type": "code",
   "execution_count": 39,
   "metadata": {},
   "outputs": [
    {
     "data": {
      "image/png": "[encoded data removed]",
      "text/plain": [
       "<matplotlib.figure.Figure at 0x230c914bc50>"
      ]
     },
     "metadata": {},
     "output_type": "display_data"
    },
    {
     "name": "stdout",
     "output_type": "stream",
     "text": [
      "[0.75014838224788938, 0.74980246548981633, 0.74959878694684556, 0.75185632053362494, 0.75185632053362494, 0.74966560008999594, 0.73883246204607289, 0.73883246204607289, 0.73883246204607289, 0.73883246204607289]\n"
     ]
    }
   ],
   "source": [
    "#min_samples_split\n",
    "min_samples_splits = np.linspace(0.1, 1.0, 10, endpoint=True)\n",
    "train_results = []\n",
    "test_results = []\n",
    "for min_samples_split in min_samples_splits:\n",
    "    dt3 = DecisionTreeClassifier(random_state = 7, min_samples_split=min_samples_split)\n",
    "    dt3.fit(train_new_sm, train_labels_binary_sm)\n",
    "    train_pred = dt3.predict(train_new_sm)\n",
    "    false_positive_rate, true_positive_rate, thresholds = roc_curve(train_labels_binary_sm, train_pred)\n",
    "    roc_auc = auc(false_positive_rate, true_positive_rate)\n",
    "    # Add auc score to previous train results\n",
    "    train_results.append(roc_auc)\n",
    "    y_pred = dt3.predict(test_new)\n",
    "    false_positive_rate, true_positive_rate, thresholds = roc_curve(test_labels_binary, y_pred)\n",
    "    roc_auc = auc(false_positive_rate, true_positive_rate)\n",
    "    # Add auc score to previous test results\n",
    "    test_results.append(roc_auc)\n",
    "from matplotlib.legend_handler import HandlerLine2D\n",
    "line1, = plt.plot(min_samples_splits, train_results, 'b', label='Train AUC')\n",
    "line2, = plt.plot(min_samples_splits, test_results, 'r', label='Test AUC')\n",
    "plt.legend(handler_map={line1: HandlerLine2D(numpoints=2)})\n",
    "plt.ylabel('AUC score')\n",
    "plt.xlabel('min samples split')\n",
    "plt.show()\n",
    "print(test_results)"
   ]
  },
  {
   "cell_type": "code",
   "execution_count": 40,
   "metadata": {},
   "outputs": [
    {
     "name": "stdout",
     "output_type": "stream",
     "text": [
      "------ Accuracy -----\n",
      "0.711752274189\n",
      "------ Confusion matrix -----\n",
      "[[5897 2732]\n",
      " [ 405 1849]]\n",
      "------ Report -----\n",
      "             precision    recall  f1-score   support\n",
      "\n",
      "          0       0.94      0.68      0.79      8629\n",
      "          1       0.40      0.82      0.54      2254\n",
      "\n",
      "avg / total       0.83      0.71      0.74     10883\n",
      "\n"
     ]
    }
   ],
   "source": [
    "dtree_model2 = DecisionTreeClassifier(random_state = 7, min_samples_split=0.4) \n",
    "dtree_model2.fit(train_new_sm, train_labels_binary_sm)\n",
    "predDT2 = dtree_model2.predict(test_new)\n",
    "# Evaluate accuracy\n",
    "\n",
    "print('------ Accuracy -----')\n",
    "print(accuracy_score(test_labels_binary, predDT2))\n",
    "print('------ Confusion matrix -----')\n",
    "print(confusion_matrix(test_labels_binary,predDT2))\n",
    "print('------ Report -----')\n",
    "print(metrics.classification_report(test_labels_binary, dtree_model2.predict(test_new)))"
   ]
  },
  {
   "cell_type": "markdown",
   "metadata": {},
   "source": [
    "Accuracy fell by quite a lot but now recall is similar for both classes in its 70s and precision for non-independent is high. However, precision of non-indpendent remains low. \n",
    "Let's try to find what number would give us best accuracy rather than AUC score. We are now looking for an integer, not a float, to examine the effect."
   ]
  },
  {
   "cell_type": "code",
   "execution_count": 41,
   "metadata": {},
   "outputs": [
    {
     "name": "stdout",
     "output_type": "stream",
     "text": [
      "------ Accuracy scores -----\n",
      "[0.78287236975098773, 0.78728291831296515, 0.78774235045483787, 0.7913259211614444, 0.78930441973720478, 0.79233667187356427, 0.79150969401819349, 0.79325553615730959, 0.78994762473582647, 0.78856932831020854, 0.78948819259395386, 0.78820178259671048]\n"
     ]
    }
   ],
   "source": [
    "min_samples_splits = [5,10,15,20,25,30,35,40,45,50,55,60]\n",
    "test_results = []\n",
    "\n",
    "for min_samples_split in min_samples_splits:\n",
    "    dt4 = DecisionTreeClassifier(random_state = 7, min_samples_split=min_samples_split)\n",
    "    dt4.fit(train_new_sm, train_labels_binary_sm)\n",
    "    test_pred = dt4.predict(test_new)\n",
    "    acc= accuracy_score(test_labels_binary, test_pred)\n",
    "    test_results.append(acc)\n",
    "\n",
    "print('------ Accuracy scores -----')\n",
    "print(test_results)"
   ]
  },
  {
   "cell_type": "code",
   "execution_count": 43,
   "metadata": {},
   "outputs": [
    {
     "name": "stdout",
     "output_type": "stream",
     "text": [
      "------ Accuracy -----\n",
      "0.793255536157\n",
      "------ Confusion matrix -----\n",
      "[[7321 1308]\n",
      " [ 942 1312]]\n",
      "------ Report -----\n",
      "             precision    recall  f1-score   support\n",
      "\n",
      "          0       0.89      0.85      0.87      8629\n",
      "          1       0.50      0.58      0.54      2254\n",
      "\n",
      "avg / total       0.81      0.79      0.80     10883\n",
      "\n"
     ]
    }
   ],
   "source": [
    "dtree_model6 = DecisionTreeClassifier(random_state = 7, min_samples_split=40) \n",
    "dtree_model6.fit(train_new_sm, train_labels_binary_sm)\n",
    "predDT6 = dtree_model6.predict(test_new)\n",
    "# Evaluate accuracy\n",
    "\n",
    "print('------ Accuracy -----')\n",
    "print(accuracy_score(test_labels_binary, predDT6))\n",
    "print('------ Confusion matrix -----')\n",
    "print(confusion_matrix(test_labels_binary,predDT6))\n",
    "print('------ Report -----')\n",
    "print(metrics.classification_report(test_labels_binary, dtree_model6.predict(test_new)))"
   ]
  },
  {
   "cell_type": "markdown",
   "metadata": {},
   "source": [
    "A change from a float to 40 (optimal integer) not only increased accuracy but also precision for 'non-independent'. However, recall for 'non-independent' decreased and F1 score for 'non-independent' remained 0.54 with increased 'independent'.\n",
    "\n",
    "Summary: float parameter seemed to be great for recall and an integer for accuracy and precision."
   ]
  },
  {
   "cell_type": "code",
   "execution_count": 44,
   "metadata": {},
   "outputs": [
    {
     "data": {
      "image/png": "[encoded data removed]",
      "text/plain": [
       "<matplotlib.figure.Figure at 0x230c8fe4550>"
      ]
     },
     "metadata": {},
     "output_type": "display_data"
    },
    {
     "name": "stdout",
     "output_type": "stream",
     "text": [
      "[0.73883246204607289, 0.73883246204607289, 0.73883246204607289, 0.55172668915399803, 0.54928807369713339]\n"
     ]
    }
   ],
   "source": [
    "#min_samples_leaf\n",
    "min_samples_leafs = np.linspace(0.1, 0.5, 5, endpoint=True)\n",
    "train_results = []\n",
    "test_results = []\n",
    "for min_samples_leaf in min_samples_leafs:\n",
    "    dt5 = DecisionTreeClassifier(random_state = 7, min_samples_leaf=min_samples_leaf)\n",
    "    dt5.fit(train_new_sm, train_labels_binary_sm)\n",
    "    train_pred = dt5.predict(train_new_sm)\n",
    "    false_positive_rate, true_positive_rate, thresholds = roc_curve(train_labels_binary_sm, train_pred)\n",
    "    roc_auc = auc(false_positive_rate, true_positive_rate)\n",
    "    # Add auc score to previous train results\n",
    "    train_results.append(roc_auc)\n",
    "    y_pred = dt5.predict(test_new)\n",
    "    false_positive_rate, true_positive_rate, thresholds = roc_curve(test_labels_binary, y_pred)\n",
    "    roc_auc = auc(false_positive_rate, true_positive_rate)\n",
    "    # Add auc score to previous test results\n",
    "    test_results.append(roc_auc)\n",
    "from matplotlib.legend_handler import HandlerLine2D\n",
    "line1, = plt.plot(min_samples_leafs, train_results, 'b', label='Train AUC')\n",
    "line2, = plt.plot(min_samples_leafs, test_results, 'r', label='Test AUC')\n",
    "plt.legend(handler_map={line1: HandlerLine2D(numpoints=2)})\n",
    "plt.ylabel('AUC score')\n",
    "plt.xlabel('min samples leafs')\n",
    "plt.show()\n",
    "print(test_results)"
   ]
  },
  {
   "cell_type": "code",
   "execution_count": 45,
   "metadata": {},
   "outputs": [
    {
     "name": "stdout",
     "output_type": "stream",
     "text": [
      "------ Accuracy -----\n",
      "0.66874942571\n",
      "------ Confusion matrix -----\n",
      "[[5343 3286]\n",
      " [ 319 1935]]\n",
      "------ Report -----\n",
      "             precision    recall  f1-score   support\n",
      "\n",
      "          0       0.94      0.62      0.75      8629\n",
      "          1       0.37      0.86      0.52      2254\n",
      "\n",
      "avg / total       0.82      0.67      0.70     10883\n",
      "\n"
     ]
    }
   ],
   "source": [
    "dtree_model7 = DecisionTreeClassifier(random_state = 7, min_samples_leaf=0.3) \n",
    "dtree_model7.fit(train_new_sm, train_labels_binary_sm)\n",
    "predDT7 = dtree_model7.predict(test_new)\n",
    "# Evaluate accuracy\n",
    "\n",
    "print('------ Accuracy -----')\n",
    "print(accuracy_score(test_labels_binary, predDT7))\n",
    "print('------ Confusion matrix -----')\n",
    "print(confusion_matrix(test_labels_binary,predDT7))\n",
    "print('------ Report -----')\n",
    "print(metrics.classification_report(test_labels_binary, dtree_model7.predict(test_new)))"
   ]
  },
  {
   "cell_type": "markdown",
   "metadata": {},
   "source": [
    "Best values for AUC score were 0.1, 0.2 and 0.3. From their identical classification report it is clear that precision for 'independent' and especially recall for 'non-independent' was greatly increased. However, other metrics decreased including overall F1 score that dropped from 0.79 to 0.70.\n",
    "So let's try to use integers to find best accuracy:"
   ]
  },
  {
   "cell_type": "code",
   "execution_count": 46,
   "metadata": {},
   "outputs": [
    {
     "name": "stdout",
     "output_type": "stream",
     "text": [
      "------ Accuracy scores -----\n",
      "[0.79013139759257556, 0.78489387117522746, 0.79316364972893505, 0.79040705687769919, 0.79196912616006621, 0.79141780758981894, 0.79353119544243311, 0.79518515115317467, 0.79307176330056051, 0.79086648901957179, 0.7891206468804558, 0.7873748047413397, 0.78691537259946709, 0.78342368832123499]\n"
     ]
    }
   ],
   "source": [
    "min_samples_leafs = [2,3,4,5,6,7,8,9,10,12,14,16,18,20]\n",
    "test_results = []\n",
    "\n",
    "for min_samples_leaf in min_samples_leafs:\n",
    "    dt6 = DecisionTreeClassifier(random_state = 7, min_samples_leaf=min_samples_leaf)\n",
    "    dt6.fit(train_new_sm, train_labels_binary_sm)\n",
    "    test_pred = dt6.predict(test_new)\n",
    "    acc= accuracy_score(test_labels_binary, test_pred)\n",
    "    test_results.append(acc)\n",
    "\n",
    "print('------ Accuracy scores -----')\n",
    "print(test_results)"
   ]
  },
  {
   "cell_type": "code",
   "execution_count": 47,
   "metadata": {},
   "outputs": [
    {
     "name": "stdout",
     "output_type": "stream",
     "text": [
      "------ Accuracy -----\n",
      "0.795185151153\n",
      "------ Confusion matrix -----\n",
      "[[7322 1307]\n",
      " [ 922 1332]]\n",
      "------ Report -----\n",
      "             precision    recall  f1-score   support\n",
      "\n",
      "          0       0.89      0.85      0.87      8629\n",
      "          1       0.50      0.59      0.54      2254\n",
      "\n",
      "avg / total       0.81      0.80      0.80     10883\n",
      "\n"
     ]
    }
   ],
   "source": [
    "dtree_model9 = DecisionTreeClassifier(random_state = 7, min_samples_leaf=9) \n",
    "dtree_model9.fit(train_new_sm, train_labels_binary_sm)\n",
    "predDT9 = dtree_model9.predict(test_new)\n",
    "# Evaluate accuracy\n",
    "\n",
    "print('------ Accuracy -----')\n",
    "print(accuracy_score(test_labels_binary, predDT9))\n",
    "print('------ Confusion matrix -----')\n",
    "print(confusion_matrix(test_labels_binary,predDT9))\n",
    "print('------ Report -----')\n",
    "print(metrics.classification_report(test_labels_binary, dtree_model9.predict(test_new)))"
   ]
  },
  {
   "cell_type": "markdown",
   "metadata": {},
   "source": [
    "The effect of using a float that identifies best AUC score and best integer for highest accuracy is exactly the same as with min_samples_slit. First one is good for precision of I and recall of N.I. Second one is overall good for I and increases precesion of N.I; an overall accuracy."
   ]
  },
  {
   "cell_type": "code",
   "execution_count": 49,
   "metadata": {},
   "outputs": [
    {
     "name": "stdout",
     "output_type": "stream",
     "text": [
      "------ Accuracy scores -----\n",
      "[0.76412753836258385, 0.77377561334190936, 0.77175411191766974, 0.78250482403748967, 0.78140218689699537, 0.77644031976477079, 0.78140218689699537, 0.78140218689699537, 0.78305614260773682, 0.78176973261049343, 0.77248920334466598, 0.77616466047964716, 0.77193788477441883]\n"
     ]
    }
   ],
   "source": [
    "#max_features\n",
    "max_features = [10,20,30,40,45,50,52,54,55,56,58,60,65]\n",
    "test_results = []\n",
    "\n",
    "for max_feature in max_features:\n",
    "    dt8 = DecisionTreeClassifier(random_state = 7, max_features=max_feature)\n",
    "    dt8.fit(train_new_sm, train_labels_binary_sm)\n",
    "    test_pred = dt8.predict(test_new)\n",
    "    acc= accuracy_score(test_labels_binary, test_pred)\n",
    "    test_results.append(acc)\n",
    "\n",
    "print('------ Accuracy scores -----')\n",
    "print(test_results)"
   ]
  },
  {
   "cell_type": "markdown",
   "metadata": {},
   "source": [
    "Looking to increase accuracy we used the loop to find best performing integer. Number 55 showed to be the best out of the options, however, the results are not significantly improved. Indeed, they are almost the same as our default model."
   ]
  },
  {
   "cell_type": "markdown",
   "metadata": {},
   "source": [
    "#### Trying Random Forests with SMOTE and no parameters"
   ]
  },
  {
   "cell_type": "code",
   "execution_count": 33,
   "metadata": {},
   "outputs": [
    {
     "name": "stdout",
     "output_type": "stream",
     "text": [
      "------ 5 KFold Validation -----\n",
      "[ 0.78021842  0.87180442  0.91685282  0.91819762  0.9153426 ]\n",
      "---- Training Data ---\n",
      "0.99483691605\n",
      "[[20083    60]\n",
      " [  148 19995]]\n",
      "Independent        20143\n",
      "Non-Independent    20143\n",
      "dtype: int64\n",
      "--- Test Data: ---\n",
      "0.807130386842\n",
      "[[7631  998]\n",
      " [1101 1153]]\n"
     ]
    },
    {
     "data": {
      "text/plain": [
       "Independent        8629\n",
       "Non-Independent    2254\n",
       "Name: holiday_package, dtype: int64"
      ]
     },
     "execution_count": 33,
     "metadata": {},
     "output_type": "execute_result"
    }
   ],
   "source": [
    "from sklearn.model_selection import cross_val_score\n",
    "from sklearn.ensemble import RandomForestClassifier\n",
    "# Create a random forest Classifier.\n",
    "clf = RandomForestClassifier()\n",
    "\n",
    "# Train the Classifier to take the training features and learn how they relate\n",
    "# to the training y (the species)\n",
    "clf.fit(train_new_sm, train_labels_sm)\n",
    "\n",
    "# Apply the Classifier we trained to the test data (which, remember, it has never seen before)\n",
    "predsB = clf.predict(test_new)\n",
    "\n",
    "# Evaluate accuracy with a 5 fold cross validation\n",
    "print('------ 5 KFold Validation -----')\n",
    "print(cross_val_score(clf, train_new_sm, train_labels_sm, cv=5))\n",
    "\n",
    "# Checking the model's accuracy\n",
    "print('---- Training Data ---')\n",
    "print(accuracy_score(train_labels_sm, clf.predict(train_new_sm)))\n",
    "print(confusion_matrix(train_labels_sm,clf.predict(train_new_sm)))\n",
    "print(train_labels_sm.value_counts())\n",
    "print('--- Test Data: ---')\n",
    "print(accuracy_score(test_labels, predsB))\n",
    "print(confusion_matrix(test_labels,predsB))\n",
    "test_labels.value_counts()"
   ]
  },
  {
   "cell_type": "markdown",
   "metadata": {},
   "source": [
    "#### Problem : This has overfit to the Training data"
   ]
  },
  {
   "cell_type": "code",
   "execution_count": 34,
   "metadata": {
    "scrolled": true
   },
   "outputs": [
    {
     "name": "stdout",
     "output_type": "stream",
     "text": [
      "------ Training Classification Report -------\n",
      "                 precision    recall  f1-score   support\n",
      "\n",
      "    Independent       0.99      1.00      0.99     20143\n",
      "Non-Independent       1.00      0.99      0.99     20143\n",
      "\n",
      "    avg / total       0.99      0.99      0.99     40286\n",
      "\n",
      "------- Testing Classification Report -------\n",
      "                 precision    recall  f1-score   support\n",
      "\n",
      "    Independent       0.87      0.88      0.88      8629\n",
      "Non-Independent       0.54      0.51      0.52      2254\n",
      "\n",
      "    avg / total       0.80      0.81      0.81     10883\n",
      "\n"
     ]
    }
   ],
   "source": [
    "#Print a classification report for the training\n",
    "print('------ Training Classification Report -------')\n",
    "print(metrics.classification_report(train_labels_sm, clf.predict(train_new_sm)))\n",
    "#Print a classification report for the test\n",
    "print('------- Testing Classification Report -------')\n",
    "print(metrics.classification_report(test_labels, clf.predict(test_new)))\n"
   ]
  },
  {
   "cell_type": "code",
   "execution_count": 35,
   "metadata": {},
   "outputs": [
    {
     "name": "stdout",
     "output_type": "stream",
     "text": [
      "{'bootstrap': True, 'class_weight': None, 'criterion': 'gini', 'max_depth': None, 'max_features': 'auto', 'max_leaf_nodes': None, 'min_impurity_decrease': 0.0, 'min_impurity_split': None, 'min_samples_leaf': 1, 'min_samples_split': 2, 'min_weight_fraction_leaf': 0.0, 'n_estimators': 10, 'n_jobs': 1, 'oob_score': False, 'random_state': None, 'verbose': 0, 'warm_start': False}\n"
     ]
    }
   ],
   "source": [
    "#Find parameters of model\n",
    "print(clf.get_params())"
   ]
  },
  {
   "cell_type": "markdown",
   "metadata": {},
   "source": [
    "### Random Forest Parameter Tuning "
   ]
  },
  {
   "cell_type": "markdown",
   "metadata": {},
   "source": [
    "First, we do some initial parameter tuning using the following parameters which should help to reduce *overfitting*:\n",
    "\n",
    " * n_estimators : Number of decision trees to be used\n",
    " * max_features : Number of features used (if float, percentage of features used)\n",
    " * max_depth : Maximum depth of the tree. If none, nodes expand until all leaves are pure. Increasing this will reduce complexity of the model.\n",
    " * min_samples_leaf : The minimum number of samples required to be a leaf node. "
   ]
  },
  {
   "cell_type": "markdown",
   "metadata": {},
   "source": [
    "Finding the best possible values for max_depth, n_features, min_sample_leaf and n_estimators. Using GridSearchCV with this many possible parameters was computationally infeasable."
   ]
  },
  {
   "cell_type": "markdown",
   "metadata": {
    "collapsed": true
   },
   "source": [
    "Using Grid Search to find the best combination of parameters:"
   ]
  },
  {
   "cell_type": "code",
   "execution_count": 15,
   "metadata": {},
   "outputs": [
    {
     "name": "stdout",
     "output_type": "stream",
     "text": [
      "9: 0.7994\n",
      "Test: 0.7207\n",
      "Test f1 score: 0.5516\n",
      "11: 0.8145\n",
      "Test: 0.7338\n",
      "Test f1 score: 0.5638\n",
      "13: 0.8415\n",
      "Test: 0.7434\n",
      "Test f1 score: 0.5706\n",
      "15: 0.8560\n",
      "Test: 0.7560\n",
      "Test f1 score: 0.5833\n",
      "17: 0.8768\n",
      "Test: 0.7624\n",
      "Test f1 score: 0.5828\n",
      "19: 0.8793\n",
      "Test: 0.7636\n",
      "Test f1 score: 0.5843\n",
      "21: 0.9073\n",
      "Test: 0.7783\n",
      "Test f1 score: 0.5890\n"
     ]
    }
   ],
   "source": [
    "from sklearn.ensemble import RandomForestClassifier\n",
    "\n",
    "for max_depth in (9, 11, 13, 15, 17, 19, 21):\n",
    "\n",
    "    clf2 = RandomForestClassifier(max_depth = max_depth)\n",
    "    clf2.fit(train_new_sm, train_labels_sm)\n",
    "    \n",
    "    predsA = clf2.predict(train_new_sm)\n",
    "    predsB = clf2.predict(test_new)\n",
    "    \n",
    "    print('%d: %.4f' % (max_depth, accuracy_score(train_labels_sm, predsA)))\n",
    "    print('Test: %.4f' % (accuracy_score(test_labels, predsB)))\n",
    "    print('Test f1 score: %.4f' % (metrics.f1_score(test_labels, predsB, pos_label = 'Non-Independent')))\n"
   ]
  },
  {
   "cell_type": "code",
   "execution_count": 16,
   "metadata": {},
   "outputs": [
    {
     "name": "stdout",
     "output_type": "stream",
     "text": [
      "5: 0.9865\n",
      "Test: 0.7914\n",
      "Test f1 score: 0.5215\n",
      "10: 0.9954\n",
      "Test: 0.8116\n",
      "Test f1 score: 0.5266\n",
      "15: 0.9976\n",
      "Test: 0.8069\n",
      "Test f1 score: 0.5580\n",
      "20: 0.9990\n",
      "Test: 0.8152\n",
      "Test f1 score: 0.5526\n",
      "25: 0.9995\n",
      "Test: 0.8135\n",
      "Test f1 score: 0.5661\n",
      "30: 0.9997\n",
      "Test: 0.8163\n",
      "Test f1 score: 0.5619\n",
      "35: 0.9999\n",
      "Test: 0.8148\n",
      "Test f1 score: 0.5722\n"
     ]
    }
   ],
   "source": [
    "for n_estimators in (5, 10, 15, 20, 25, 30, 35):\n",
    "\n",
    "    clf3 = RandomForestClassifier(n_estimators = n_estimators)\n",
    "\n",
    "    clf3.fit(train_new_sm, train_labels_sm)\n",
    "    \n",
    "    predsA = clf3.predict(train_new_sm)\n",
    "    predsB = clf3.predict(test_new)\n",
    "    \n",
    "    print('%d: %.4f' % (n_estimators, accuracy_score(train_labels_sm, predsA)))\n",
    "    print('Test: %.4f' % (accuracy_score(test_labels, predsB)))\n",
    "    print('Test f1 score: %.4f' % (metrics.f1_score(test_labels, predsB, pos_label = 'Non-Independent')))"
   ]
  },
  {
   "cell_type": "code",
   "execution_count": 17,
   "metadata": {},
   "outputs": [
    {
     "data": {
      "text/plain": [
       "(40286, 66)"
      ]
     },
     "execution_count": 17,
     "metadata": {},
     "output_type": "execute_result"
    }
   ],
   "source": [
    "train_new_sm.shape"
   ]
  },
  {
   "cell_type": "code",
   "execution_count": 18,
   "metadata": {},
   "outputs": [
    {
     "name": "stdout",
     "output_type": "stream",
     "text": [
      "8.00: 0.9958\n",
      "Test: 0.8062\n",
      "Test f1 score: 0.5171\n",
      "0.30: 0.9948\n",
      "Test: 0.8189\n",
      "Test f1 score: 0.5584\n",
      "0.40: 0.9952\n",
      "Test: 0.8212\n",
      "Test f1 score: 0.5660\n",
      "0.50: 0.9954\n",
      "Test: 0.8219\n",
      "Test f1 score: 0.5712\n",
      "0.60: 0.9948\n",
      "Test: 0.8194\n",
      "Test f1 score: 0.5594\n"
     ]
    }
   ],
   "source": [
    "import math\n",
    "\n",
    "#'auto': max_features=sqrt(n_features)\n",
    "x = math.sqrt(66)\n",
    "#If int, take no. of features \n",
    "x = int(round(x))\n",
    "\n",
    "for max_features in (x, 0.3, 0.4, 0.5, 0.6):\n",
    "\n",
    "    clf4 = RandomForestClassifier(max_features = max_features)\n",
    "\n",
    "    clf4.fit(train_new_sm, train_labels_sm)\n",
    "    \n",
    "    predsA = clf4.predict(train_new_sm)\n",
    "    predsB = clf4.predict(test_new)\n",
    "    \n",
    "    print('%.2f: %.4f' % (max_features, accuracy_score(train_labels_sm, predsA)))\n",
    "    print('Test: %.4f' % (accuracy_score(test_labels, predsB)))\n",
    "    print('Test f1 score: %.4f' % (metrics.f1_score(test_labels, predsB, pos_label = 'Non-Independent')))"
   ]
  },
  {
   "cell_type": "code",
   "execution_count": 19,
   "metadata": {},
   "outputs": [
    {
     "name": "stdout",
     "output_type": "stream",
     "text": [
      "1: 0.9954\n",
      "Test: 0.8070\n",
      "Test f1 score: 0.5177\n",
      "2: 0.9590\n",
      "Test: 0.8081\n",
      "Test f1 score: 0.5831\n",
      "3: 0.9329\n",
      "Test: 0.8047\n",
      "Test f1 score: 0.5887\n",
      "4: 0.9193\n",
      "Test: 0.8015\n",
      "Test f1 score: 0.5952\n",
      "5: 0.9059\n",
      "Test: 0.8018\n",
      "Test f1 score: 0.5999\n"
     ]
    }
   ],
   "source": [
    "for min_samples_leaf in (1, 2, 3, 4, 5):\n",
    "# Create a random forest Classifier.\n",
    "    clf5 = RandomForestClassifier(min_samples_leaf = min_samples_leaf)\n",
    "\n",
    "    clf5.fit(train_new_sm, train_labels_sm)\n",
    "    \n",
    "    predsA = clf5.predict(train_new_sm)\n",
    "    predsB = clf5.predict(test_new)\n",
    "    \n",
    "    print('%d: %.4f' % (min_samples_leaf, accuracy_score(train_labels_sm, predsA)))\n",
    "    print('Test: %.4f' % (accuracy_score(test_labels, predsB)))\n",
    "    print('Test f1 score: %.4f' % (metrics.f1_score(test_labels, predsB, pos_label = 'Non-Independent')))"
   ]
  },
  {
   "cell_type": "markdown",
   "metadata": {},
   "source": [
    "Using Grid Search to find the best combination of parameters:"
   ]
  },
  {
   "cell_type": "code",
   "execution_count": 20,
   "metadata": {},
   "outputs": [
    {
     "name": "stdout",
     "output_type": "stream",
     "text": [
      "Best score for model: 0.854937199027\n",
      "Best n_estimators: 30\n",
      "Best max_depth: 21\n",
      "Best max_features: 0.4\n",
      "Best min_samples_leaf: 3\n"
     ]
    }
   ],
   "source": [
    "#Note: This takes quite a lot of time to run!\n",
    "from sklearn.model_selection import GridSearchCV\n",
    "parameter_candidates = [\n",
    "    {'n_estimators' : [20, 25, 30],'max_depth' : [17, 19, 21],\n",
    "    'max_features' : [0.4, 0.6], 'min_samples_leaf' :[3, 4, 5]}\n",
    "]\n",
    "\n",
    "clrf = GridSearchCV(RandomForestClassifier(), parameter_candidates, n_jobs=1)\n",
    "\n",
    "clrf.fit(train_new_sm, train_labels_sm)\n",
    "\n",
    "print('Best score for model:', clrf.best_score_)\n",
    "print('Best n_estimators:', clrf.best_estimator_.n_estimators)\n",
    "print('Best max_depth:', clrf.best_estimator_.max_depth)\n",
    "print('Best max_features:', clrf.best_estimator_.max_features)\n",
    "print('Best min_samples_leaf:', clrf.best_estimator_.min_samples_leaf)\n"
   ]
  },
  {
   "cell_type": "code",
   "execution_count": 22,
   "metadata": {},
   "outputs": [
    {
     "name": "stdout",
     "output_type": "stream",
     "text": [
      "------ 5 KFold Validation -----\n",
      "[ 0.80776868  0.85554728  0.87937453  0.8730139   0.87624131]\n",
      "---- Training Data ---\n",
      "0.899021992752\n",
      "[[16555  3588]\n",
      " [  480 19663]]\n",
      "Independent        20143\n",
      "Non-Independent    20143\n",
      "dtype: int64\n",
      "--- Test Data: ---\n",
      "0.787374804741\n",
      "[[6805 1824]\n",
      " [ 490 1764]]\n"
     ]
    },
    {
     "data": {
      "text/plain": [
       "Independent        8629\n",
       "Non-Independent    2254\n",
       "Name: holiday_package, dtype: int64"
      ]
     },
     "execution_count": 22,
     "metadata": {},
     "output_type": "execute_result"
    }
   ],
   "source": [
    "from sklearn.model_selection import cross_val_score\n",
    "# Create a random forest Classifier.\n",
    "clf = RandomForestClassifier(n_estimators = 25, max_features = 0.6, max_depth = 21, min_samples_leaf = 3 )\n",
    "\n",
    "# Train the Classifier to take the training features and learn how they relate\n",
    "# to the training y (the species)\n",
    "clf.fit(train_new_sm, train_labels_sm)\n",
    "\n",
    "# Apply the Classifier we trained to the test data\n",
    "predsB = clf.predict(test_new)\n",
    "\n",
    "\n",
    "# Evaluate accuracy with a 5 fold cross validation\n",
    "print('------ 5 KFold Validation -----')\n",
    "print(cross_val_score(clf, train_new_sm, train_labels_sm, cv=5))\n",
    "\n",
    "\n",
    "# Checking the model's accuracy\n",
    "print('---- Training Data ---')\n",
    "print(accuracy_score(train_labels_sm, clf.predict(train_new_sm)))\n",
    "print(confusion_matrix(train_labels_sm,clf.predict(train_new_sm)))\n",
    "print(train_labels_sm.value_counts())\n",
    "print('--- Test Data: ---')\n",
    "print(accuracy_score(test_labels, predsB))\n",
    "print(confusion_matrix(test_labels,predsB))\n",
    "test_labels.value_counts()"
   ]
  },
  {
   "cell_type": "code",
   "execution_count": 23,
   "metadata": {},
   "outputs": [
    {
     "name": "stdout",
     "output_type": "stream",
     "text": [
      "------ Training Classification Report -------\n",
      "                 precision    recall  f1-score   support\n",
      "\n",
      "    Independent       0.97      0.82      0.89     20143\n",
      "Non-Independent       0.85      0.98      0.91     20143\n",
      "\n",
      "    avg / total       0.91      0.90      0.90     40286\n",
      "\n",
      "------- Testing Classification Report -------\n",
      "                 precision    recall  f1-score   support\n",
      "\n",
      "    Independent       0.93      0.79      0.85      8629\n",
      "Non-Independent       0.49      0.78      0.60      2254\n",
      "\n",
      "    avg / total       0.84      0.79      0.80     10883\n",
      "\n"
     ]
    }
   ],
   "source": [
    "#Print a classification report for the training\n",
    "print('------ Training Classification Report -------')\n",
    "print(metrics.classification_report(train_labels_sm, clf.predict(train_new_sm)))\n",
    "#Print a classification report for the test\n",
    "print('------- Testing Classification Report -------')\n",
    "print(metrics.classification_report(test_labels, clf.predict(test_new)))"
   ]
  },
  {
   "cell_type": "code",
   "execution_count": null,
   "metadata": {
    "collapsed": true
   },
   "outputs": [],
   "source": []
  }
 ],
 "metadata": {
  "kernelspec": {
   "display_name": "Python 3",
   "language": "python",
   "name": "python3"
  },
  "language_info": {
   "codemirror_mode": {
    "name": "ipython",
    "version": 3
   },
   "file_extension": ".py",
   "mimetype": "text/x-python",
   "name": "python",
   "nbconvert_exporter": "python",
   "pygments_lexer": "ipython3",
   "version": "3.6.3"
  }
 },
 "nbformat": 4,
 "nbformat_minor": 2
}
