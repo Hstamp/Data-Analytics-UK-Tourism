{
 "cells": [
  {
   "cell_type": "code",
   "execution_count": 1,
   "metadata": {
    "collapsed": true
   },
   "outputs": [],
   "source": [
    "import pandas as pd\n",
    "import numpy as np"
   ]
  },
  {
   "cell_type": "code",
   "execution_count": 2,
   "metadata": {
    "collapsed": true
   },
   "outputs": [],
   "source": [
    "d1 = pd.read_excel('./raw_data/Travelpac 2014.xls', 'Labelled 2014')\n",
    "d2 = pd.read_excel('./raw_data/Travelpac 2015.xls', 'Labelled 2015')\n",
    "d3 = pd.read_excel('./raw_data/Travelpac 2016.xls', 'Labelled 2016 Q3')\n",
    "d4 = pd.read_excel('./raw_data/Travelpac Q1 2017.xls', 'Labelled 2016 Q1')\n",
    "d5 = pd.read_excel('./raw_data/Travelpac Q2 2017.xls', 'Labelled 2017 Q2')\n",
    "d6 = pd.read_excel('./raw_data/Travelpac Q3 2017.xls', 'Labelled 2017 Q3')"
   ]
  },
  {
   "cell_type": "code",
   "execution_count": 3,
   "metadata": {
    "collapsed": true
   },
   "outputs": [],
   "source": [
    "#Concatenate them together where axis = 0\n",
    "total_raw = pd.concat([d1, d2, d3, d4, d5, d6], ignore_index=True)\n"
   ]
  },
  {
   "cell_type": "code",
   "execution_count": 4,
   "metadata": {},
   "outputs": [
    {
     "name": "stdout",
     "output_type": "stream",
     "text": [
      "Columns:\n",
      "Index(['Year', 'quarter', 'ukos', 'mode', 'country', 'purpose', 'package',\n",
      "       'Age', 'Sex', 'duration', 'visits', 'nights', 'spend', 'sample'],\n",
      "      dtype='object')\n"
     ]
    },
    {
     "data": {
      "text/plain": [
       "(None, None)"
      ]
     },
     "execution_count": 4,
     "metadata": {},
     "output_type": "execute_result"
    }
   ],
   "source": [
    "#Find attribute names\n",
    "print(\"Columns:\"), print(total_raw.columns)"
   ]
  },
  {
   "cell_type": "code",
   "execution_count": 5,
   "metadata": {},
   "outputs": [
    {
     "name": "stdout",
     "output_type": "stream",
     "text": [
      "Updated Columns:\n"
     ]
    },
    {
     "data": {
      "text/plain": [
       "(None,\n",
       " Index(['Year', 'quarter', 'place_of_residence', 'mode_of_transport', 'country',\n",
       "        'purpose_of_travel', 'holiday_package', 'Age', 'Sex', 'duration',\n",
       "        'weighted_visits', 'weighted_nights', 'weighted_spend', 'sample'],\n",
       "       dtype='object'))"
      ]
     },
     "execution_count": 5,
     "metadata": {},
     "output_type": "execute_result"
    }
   ],
   "source": [
    "#Rename columns for clarity\n",
    "total_raw = total_raw.rename(columns={\"ukos\":\"place_of_residence\", \"visits\": \"weighted_visits\",\n",
    "        \"nights\": \"weighted_nights\", \"spend\": \"weighted_spend\", \"mode\": \"mode_of_transport\", \n",
    "        \"package\":\"holiday_package\", \"purpose\": \"purpose_of_travel\"})\n",
    "\n",
    "print(\"Updated Columns:\"),total_raw.columns"
   ]
  },
  {
   "cell_type": "code",
   "execution_count": 6,
   "metadata": {
    "collapsed": true
   },
   "outputs": [],
   "source": [
    "#Create a mapping for all countries we want to include in our analysis\n",
    "#Codes have been taken from data documentation\n",
    "mapping_country = {\n",
    "        10: 'Austria',\n",
    "        11: 'Belgium',\n",
    "        12: 'Bulgaria',\n",
    "        13: 'Croatia',\n",
    "        14: 'Czech Republic',\n",
    "        15: 'Cyprus EU',\n",
    "        16: 'Cyprus Non EU',\n",
    "        17: 'Denmark',\n",
    "        18: 'Estonia',\n",
    "        19: 'Finland',\n",
    "        20: 'France',#Includes Monaco\n",
    "        21: 'Germany',\n",
    "        22: 'Gibraltar',\n",
    "        23: 'Greece',\n",
    "        24: 'Hungary',\n",
    "        25: 'Iceland',\n",
    "        26: 'Irish Republic',\n",
    "        27: 'Italy', #Includes San Marino and Vatican City\n",
    "        28: 'Latvia',\n",
    "        29: 'Lithuania',\n",
    "        30: 'Luxembourg',\n",
    "        31: 'Malta',\n",
    "        32: 'Netherlands',\n",
    "        33: 'Norway',\n",
    "        34: 'Poland',\n",
    "        35: 'Portugal',#Includes Azores and Madeira\n",
    "        36: 'Romania',\n",
    "        37: 'Russia',\n",
    "        38: 'Spain',#Includes Andorra, Canary Islands\n",
    "        39: 'Slovakia',\n",
    "        40: 'Slovenia',\n",
    "        41: 'Sweden',\n",
    "        42: 'Switzerland',#Includes Liechtenstein\n",
    "        43: 'Turkey',\n",
    "        44: 'Channel Islands',\n",
    "        45: 'Other Europe',#Table does not specify further \n",
    "        }"
   ]
  },
  {
   "cell_type": "code",
   "execution_count": 7,
   "metadata": {
    "collapsed": true
   },
   "outputs": [],
   "source": [
    "#Swap keys and values in mapping_country so string name is the key\n",
    "mapping_country_inv = {v: k for k, v in mapping_country.items()}\n",
    "#Convert countries to numerical codes\n",
    "total_raw.replace(mapping_country_inv, inplace = True)"
   ]
  },
  {
   "cell_type": "code",
   "execution_count": 8,
   "metadata": {
    "collapsed": true
   },
   "outputs": [],
   "source": [
    "#Quickly create a list of numbers\n",
    "country_range = list(set(np.arange(10,46,1)))\n",
    "#remove countries which are not in range \n",
    "target_dataset = total_raw.loc[total_raw['country'].isin(country_range)]"
   ]
  },
  {
   "cell_type": "code",
   "execution_count": 9,
   "metadata": {
    "collapsed": true
   },
   "outputs": [],
   "source": [
    "#Return country to String category level\n",
    "target_dataset = target_dataset.replace(mapping_country)\n",
    "\n",
    "#clean up the index\n",
    "find_null = target_dataset.reset_index(drop=True)"
   ]
  },
  {
   "cell_type": "code",
   "execution_count": 10,
   "metadata": {},
   "outputs": [
    {
     "name": "stdout",
     "output_type": "stream",
     "text": [
      "count      89833\n",
      "unique        36\n",
      "top       France\n",
      "freq       11705\n",
      "Name: country, dtype: object\n"
     ]
    }
   ],
   "source": [
    "#Look at new formation of data, we now have 89833 instances\n",
    "print(target_dataset['country'].describe())"
   ]
  },
  {
   "cell_type": "code",
   "execution_count": 11,
   "metadata": {},
   "outputs": [
    {
     "name": "stdout",
     "output_type": "stream",
     "text": [
      "Are there any null values:\n",
      "True\n",
      "How many in each column?\n",
      "Year                     0\n",
      "quarter                  0\n",
      "place_of_residence       0\n",
      "mode_of_transport        0\n",
      "country                  0\n",
      "purpose_of_travel        0\n",
      "holiday_package          0\n",
      "Age                      0\n",
      "Sex                    188\n",
      "duration                 0\n",
      "weighted_visits       2536\n",
      "weighted_nights       2536\n",
      "weighted_spend           5\n",
      "sample                 180\n",
      "dtype: int64\n",
      "In total?\n",
      "5445\n"
     ]
    },
    {
     "data": {
      "text/plain": [
       "(None, None)"
      ]
     },
     "execution_count": 11,
     "metadata": {},
     "output_type": "execute_result"
    }
   ],
   "source": [
    "#Summary of null values in the data\n",
    "\n",
    "#Find out if there are null values in your data\n",
    "print('Are there any null values:'),print(find_null.isnull().values.any())\n",
    "#Find out how many - This gives you the breakdown per column\n",
    "print('How many in each column?'),print(find_null.isnull().sum())\n",
    "#Gives you total overall\n",
    "print('In total?'), print(find_null.isnull().sum().sum())"
   ]
  },
  {
   "cell_type": "code",
   "execution_count": 12,
   "metadata": {},
   "outputs": [
    {
     "name": "stdout",
     "output_type": "stream",
     "text": [
      "purpose_of_travel\n",
      "9                1.161210e+03\n",
      "Business         4.706254e+07\n",
      "Holiday          1.719312e+08\n",
      "Miscellaneous    1.169497e+07\n",
      "Study            1.329115e+06\n",
      "Transit                   NaN\n",
      "VFR              7.083480e+07\n",
      "Name: weighted_visits, dtype: float64\n",
      "purpose_of_travel\n",
      "9                4.064235e+05\n",
      "Business         1.679381e+08\n",
      "Holiday          1.296363e+09\n",
      "Miscellaneous    8.590032e+07\n",
      "Study            4.969528e+07\n",
      "Transit                   NaN\n",
      "VFR              6.406660e+08\n",
      "Name: weighted_nights, dtype: float64\n"
     ]
    }
   ],
   "source": [
    "#Looking at the data, many of the weighted_visits and wieghted_nights comes where Transit is purpose\n",
    "#We find when we sum by purpose that Transit is NaN\n",
    "grouped = find_null['weighted_visits'].groupby(find_null['purpose_of_travel']).sum()\n",
    "print(grouped)\n",
    "grouped = find_null['weighted_nights'].groupby(find_null['purpose_of_travel']).sum()\n",
    "print(grouped)"
   ]
  },
  {
   "cell_type": "code",
   "execution_count": 13,
   "metadata": {},
   "outputs": [
    {
     "name": "stdout",
     "output_type": "stream",
     "text": [
      "How many in each column?\n",
      "Year                    0\n",
      "quarter                 0\n",
      "place_of_residence      0\n",
      "mode_of_transport       0\n",
      "country                 0\n",
      "purpose_of_travel       0\n",
      "holiday_package         0\n",
      "Age                     0\n",
      "Sex                   188\n",
      "duration                0\n",
      "weighted_visits        64\n",
      "weighted_nights        64\n",
      "weighted_spend          5\n",
      "sample                180\n",
      "dtype: int64\n",
      "In total?\n",
      "501\n",
      "(87360, 14)\n"
     ]
    }
   ],
   "source": [
    "#edit dataframe so that it does not contain rows of Transit or 9\n",
    "#9 codes as \"Not Known\" in documentation and only has a count for 1 in our data\n",
    "remove_transit = find_null[~find_null['purpose_of_travel'].isin(['Transit', 9])]\n",
    "\n",
    "#Now lets see the amount of null values per column\n",
    "print(\"How many in each column?\"),print(remove_transit.isnull().sum())\n",
    "#Only 504 left\n",
    "print(\"In total?\"), print(remove_transit.isnull().sum().sum())\n",
    "\n",
    "print(remove_transit.shape)"
   ]
  },
  {
   "cell_type": "code",
   "execution_count": 14,
   "metadata": {
    "collapsed": true
   },
   "outputs": [],
   "source": [
    "#Drop sample, as it is not needed for our analysis\n",
    "\n",
    "drop_sample = remove_transit.drop(['sample'], axis=1)"
   ]
  },
  {
   "cell_type": "code",
   "execution_count": 15,
   "metadata": {},
   "outputs": [
    {
     "name": "stdout",
     "output_type": "stream",
     "text": [
      "How many NaN do we have left?\n",
      "Year                    0\n",
      "quarter                 0\n",
      "place_of_residence      0\n",
      "mode_of_transport       0\n",
      "country                 0\n",
      "purpose_of_travel       0\n",
      "holiday_package         0\n",
      "Age                     0\n",
      "Sex                   188\n",
      "duration                0\n",
      "weighted_visits        64\n",
      "weighted_nights        64\n",
      "weighted_spend          5\n",
      "dtype: int64\n"
     ]
    }
   ],
   "source": [
    "#Deal with NaN values for Sex\n",
    "\n",
    "#Drop where Sex is not Binary Male/Female\n",
    "drop_sample = drop_sample[~drop_sample['Sex'].isin([\"Dont Know\", \"Don't Know/NA\"])]\n",
    "\n",
    "#We still have 180 in Gender left. We can't take an average, so:\n",
    "print(\"How many NaN do we have left?\"),print(drop_sample.isnull().sum())\n",
    "#Drop NA values from this column\n",
    "drop_sample.dropna(subset=['Sex'], inplace = True)"
   ]
  },
  {
   "cell_type": "code",
   "execution_count": 16,
   "metadata": {},
   "outputs": [
    {
     "name": "stdout",
     "output_type": "stream",
     "text": [
      "Count of remaining NaN?\n",
      "Year                  0\n",
      "quarter               0\n",
      "place_of_residence    0\n",
      "mode_of_transport     0\n",
      "country               0\n",
      "purpose_of_travel     0\n",
      "holiday_package       0\n",
      "Age                   0\n",
      "Sex                   0\n",
      "duration              0\n",
      "weighted_visits       4\n",
      "weighted_nights       4\n",
      "weighted_spend        5\n",
      "dtype: int64\n"
     ]
    },
    {
     "data": {
      "text/plain": [
       "(None, None)"
      ]
     },
     "execution_count": 16,
     "metadata": {},
     "output_type": "execute_result"
    }
   ],
   "source": [
    "print(\"Count of remaining NaN?\"),print(drop_sample.isnull().sum())"
   ]
  },
  {
   "cell_type": "code",
   "execution_count": 17,
   "metadata": {},
   "outputs": [
    {
     "name": "stdout",
     "output_type": "stream",
     "text": [
      "How many in each column?\n",
      "Year                  0\n",
      "quarter               0\n",
      "place_of_residence    0\n",
      "mode_of_transport     0\n",
      "country               0\n",
      "purpose_of_travel     0\n",
      "holiday_package       0\n",
      "Age                   0\n",
      "Sex                   0\n",
      "duration              0\n",
      "weighted_visits       0\n",
      "weighted_nights       0\n",
      "weighted_spend        1\n",
      "dtype: int64\n",
      "In total?\n",
      "1\n"
     ]
    },
    {
     "data": {
      "text/plain": [
       "(None, None)"
      ]
     },
     "execution_count": 17,
     "metadata": {},
     "output_type": "execute_result"
    }
   ],
   "source": [
    "#Deal with rows with several NaN values. All rows with several NaN values\n",
    "# have a \"Stay not known\" and thus no values for visits, nights and sppend either.\n",
    "\n",
    "#Drop all rows with a value of \"Stay Not Known\" in column \"duration\"\n",
    "remove_stayNotKnown = drop_sample[~drop_sample['duration'].isin(['Stay Not Known'])]\n",
    "\n",
    "#Now lets see the amount of null values per column\n",
    "print(\"How many in each column?\"),print(remove_stayNotKnown.isnull().sum())\n",
    "#Only 1 left\n",
    "print(\"In total?\"), print(remove_stayNotKnown.isnull().sum().sum())\n"
   ]
  },
  {
   "cell_type": "code",
   "execution_count": 18,
   "metadata": {},
   "outputs": [
    {
     "name": "stdout",
     "output_type": "stream",
     "text": [
      "How many in each column?\n",
      "Year                  0\n",
      "quarter               0\n",
      "place_of_residence    0\n",
      "mode_of_transport     0\n",
      "country               0\n",
      "purpose_of_travel     0\n",
      "holiday_package       0\n",
      "Age                   0\n",
      "Sex                   0\n",
      "duration              0\n",
      "weighted_visits       0\n",
      "weighted_nights       0\n",
      "weighted_spend        0\n",
      "dtype: int64\n"
     ]
    },
    {
     "data": {
      "text/plain": [
       "(None, None)"
      ]
     },
     "execution_count": 18,
     "metadata": {},
     "output_type": "execute_result"
    }
   ],
   "source": [
    "#Deal with NaN value in weighted_spend\n",
    "\n",
    "#We replace the one missing value with 0 as this is the safest value to assume\n",
    "final = remove_stayNotKnown.fillna(0)\n",
    "\n",
    "#Now lets see the amount of null values per column, no NaN values left\n",
    "print(\"How many in each column?\"),print(final.isnull().sum())"
   ]
  },
  {
   "cell_type": "code",
   "execution_count": 19,
   "metadata": {},
   "outputs": [
    {
     "name": "stdout",
     "output_type": "stream",
     "text": [
      "Sex unknown occurences:  70\n",
      "Age unknown occurences:  137\n",
      "Age unknown occurences now:  0\n",
      "Sex unknown occurences now:  14\n",
      "Age unknown occurences new:  0\n",
      "Sex unknown occurences new:  0\n"
     ]
    }
   ],
   "source": [
    "#Find Uknown Occurences in our data \n",
    "\n",
    "print('Sex unknown occurences: ', (final['Sex']=='Dont know').sum())\n",
    "print('Age unknown occurences: ', (final['Age']=='D/K').sum())            \n",
    "\n",
    "#drop unknown age\n",
    "drop_dkage = final[final['Age']!='D/K']\n",
    "print('Age unknown occurences now: ', (drop_dkage['Age']=='D/K').sum())\n",
    "print('Sex unknown occurences now: ', (drop_dkage['Sex']=='Dont know').sum())\n",
    "\n",
    "#removing the rest of 'Dont know' values from Sex \n",
    "drop_dksex = drop_dkage[drop_dkage['Sex']!='Dont know']\n",
    "print('Age unknown occurences new: ', (drop_dksex['Age']=='D/K').sum())\n",
    "print('Sex unknown occurences new: ', (drop_dksex['Sex']=='Dont know').sum())"
   ]
  },
  {
   "cell_type": "code",
   "execution_count": 20,
   "metadata": {},
   "outputs": [
    {
     "name": "stdout",
     "output_type": "stream",
     "text": [
      "(86859, 13)\n"
     ]
    }
   ],
   "source": [
    "#Saving the data:\n",
    "\n",
    "#Reindex \n",
    "drop_dksex.reset_index(drop=True, inplace = True)\n",
    "\n",
    "print(drop_dksex.shape)"
   ]
  },
  {
   "cell_type": "code",
   "execution_count": 21,
   "metadata": {
    "collapsed": true
   },
   "outputs": [],
   "source": [
    "clean_duration = drop_dksex"
   ]
  },
  {
   "cell_type": "code",
   "execution_count": 22,
   "metadata": {},
   "outputs": [
    {
     "name": "stdout",
     "output_type": "stream",
     "text": [
      "Index(['Year', 'quarter', 'place_of_residence', 'mode_of_transport', 'country',\n",
      "       'purpose_of_travel', 'holiday_package', 'Age', 'Sex', 'duration',\n",
      "       'weighted_visits', 'weighted_nights', 'weighted_spend'],\n",
      "      dtype='object')\n",
      "4 - 13 Nights      25274\n",
      "1 - 3 Nights       21658\n",
      "4-13 nights         9312\n",
      "14 - 27 Nights      8481\n",
      "1-3 nights          8068\n",
      "Nil Stay            5506\n",
      "28 - 90 Nights      3524\n",
      "14-27 nights        2911\n",
      "28-90 nights        1234\n",
      "3 - 6 Months         514\n",
      "3-6 months           193\n",
      "6 Months - Year      124\n",
      "6 months-year         60\n",
      "Name: duration, dtype: int64\n",
      "count             86859\n",
      "unique               13\n",
      "top       4 - 13 Nights\n",
      "freq              25274\n",
      "Name: duration, dtype: object\n"
     ]
    }
   ],
   "source": [
    "print(clean_duration.columns)\n",
    "#There are problems with the categories for duration\n",
    "print(clean_duration['duration'].value_counts())\n",
    "print(clean_duration['duration'].describe())"
   ]
  },
  {
   "cell_type": "code",
   "execution_count": 33,
   "metadata": {
    "scrolled": true
   },
   "outputs": [
    {
     "name": "stdout",
     "output_type": "stream",
     "text": [
      "4 - 13 Nights      34586\n",
      "1 - 3 Nights       29726\n",
      "14 - 27 Nights     11392\n",
      "0 Nights            5506\n",
      "28 - 90 Nights      4758\n",
      "3 - 6 Months         707\n",
      "6 Months - Year      184\n",
      "Name: duration, dtype: int64\n",
      "count             86859\n",
      "unique                7\n",
      "top       4 - 13 Nights\n",
      "freq              34586\n",
      "Name: duration, dtype: object\n"
     ]
    },
    {
     "name": "stderr",
     "output_type": "stream",
     "text": [
      "C:\\Users\\hatti\\Anaconda2\\envs\\py36\\lib\\site-packages\\pandas\\core\\generic.py:3836: SettingWithCopyWarning: \n",
      "A value is trying to be set on a copy of a slice from a DataFrame\n",
      "\n",
      "See the caveats in the documentation: http://pandas.pydata.org/pandas-docs/stable/indexing.html#indexing-view-versus-copy\n",
      "  limit=limit, regex=regex)\n"
     ]
    }
   ],
   "source": [
    "clean_duration.replace({\"Nil Stay\": \"0 Nights\", \"1-3 nights\": \"1 - 3 Nights\", \"4-13 nights\": \"4 - 13 Nights\",\n",
    "                       \"14-27 nights\": \"14 - 27 Nights\", \"28-90 nights\": \"28 - 90 Nights\", \"3-6 months\": \"3 - 6 Months\",\n",
    "                       \"6 months-year\": \"6 Months - Year\"}, inplace = True)\n",
    "\n",
    "\n",
    "print(clean_duration['duration'].value_counts())\n",
    "print(clean_duration['duration'].describe())"
   ]
  },
  {
   "cell_type": "code",
   "execution_count": 24,
   "metadata": {
    "scrolled": true
   },
   "outputs": [
    {
     "name": "stdout",
     "output_type": "stream",
     "text": [
      "(86859, 13)\n"
     ]
    },
    {
     "data": {
      "text/html": [
       "<div>\n",
       "<style>\n",
       "    .dataframe thead tr:only-child th {\n",
       "        text-align: right;\n",
       "    }\n",
       "\n",
       "    .dataframe thead th {\n",
       "        text-align: left;\n",
       "    }\n",
       "\n",
       "    .dataframe tbody tr th {\n",
       "        vertical-align: top;\n",
       "    }\n",
       "</style>\n",
       "<table border=\"1\" class=\"dataframe\">\n",
       "  <thead>\n",
       "    <tr style=\"text-align: right;\">\n",
       "      <th></th>\n",
       "      <th>Year</th>\n",
       "      <th>quarter</th>\n",
       "      <th>place_of_residence</th>\n",
       "      <th>mode_of_transport</th>\n",
       "      <th>country</th>\n",
       "      <th>purpose_of_travel</th>\n",
       "      <th>holiday_package</th>\n",
       "      <th>Age</th>\n",
       "      <th>Sex</th>\n",
       "      <th>duration</th>\n",
       "      <th>weighted_visits</th>\n",
       "      <th>weighted_nights</th>\n",
       "      <th>weighted_spend</th>\n",
       "    </tr>\n",
       "  </thead>\n",
       "  <tbody>\n",
       "    <tr>\n",
       "      <th>86854</th>\n",
       "      <td>2017</td>\n",
       "      <td>Jul-Sep</td>\n",
       "      <td>Overseas residents</td>\n",
       "      <td>Tunnel</td>\n",
       "      <td>Switzerland</td>\n",
       "      <td>Holiday</td>\n",
       "      <td>Non-Independent</td>\n",
       "      <td>65 &amp; over</td>\n",
       "      <td>Female</td>\n",
       "      <td>4 - 13 Nights</td>\n",
       "      <td>1124.887</td>\n",
       "      <td>7874.209</td>\n",
       "      <td>833541.267</td>\n",
       "    </tr>\n",
       "    <tr>\n",
       "      <th>86855</th>\n",
       "      <td>2017</td>\n",
       "      <td>Jul-Sep</td>\n",
       "      <td>Overseas residents</td>\n",
       "      <td>Tunnel</td>\n",
       "      <td>Switzerland</td>\n",
       "      <td>Business</td>\n",
       "      <td>Independent</td>\n",
       "      <td>35-44</td>\n",
       "      <td>Male</td>\n",
       "      <td>1 - 3 Nights</td>\n",
       "      <td>1251.385</td>\n",
       "      <td>1251.385</td>\n",
       "      <td>508062.310</td>\n",
       "    </tr>\n",
       "    <tr>\n",
       "      <th>86856</th>\n",
       "      <td>2017</td>\n",
       "      <td>Jul-Sep</td>\n",
       "      <td>Overseas residents</td>\n",
       "      <td>Tunnel</td>\n",
       "      <td>Switzerland</td>\n",
       "      <td>VFR</td>\n",
       "      <td>Independent</td>\n",
       "      <td>25-34</td>\n",
       "      <td>Male</td>\n",
       "      <td>1 - 3 Nights</td>\n",
       "      <td>1251.385</td>\n",
       "      <td>1251.385</td>\n",
       "      <td>250277.000</td>\n",
       "    </tr>\n",
       "    <tr>\n",
       "      <th>86857</th>\n",
       "      <td>2017</td>\n",
       "      <td>Jul-Sep</td>\n",
       "      <td>Overseas residents</td>\n",
       "      <td>Tunnel</td>\n",
       "      <td>Turkey</td>\n",
       "      <td>Business</td>\n",
       "      <td>Independent</td>\n",
       "      <td>55-64</td>\n",
       "      <td>Male</td>\n",
       "      <td>4 - 13 Nights</td>\n",
       "      <td>1226.617</td>\n",
       "      <td>4906.468</td>\n",
       "      <td>24532.340</td>\n",
       "    </tr>\n",
       "    <tr>\n",
       "      <th>86858</th>\n",
       "      <td>2017</td>\n",
       "      <td>Jul-Sep</td>\n",
       "      <td>Overseas residents</td>\n",
       "      <td>Tunnel</td>\n",
       "      <td>Other Europe</td>\n",
       "      <td>Business</td>\n",
       "      <td>Independent</td>\n",
       "      <td>35-44</td>\n",
       "      <td>Male</td>\n",
       "      <td>4 - 13 Nights</td>\n",
       "      <td>3233.306</td>\n",
       "      <td>16166.530</td>\n",
       "      <td>0.000</td>\n",
       "    </tr>\n",
       "  </tbody>\n",
       "</table>\n",
       "</div>"
      ],
      "text/plain": [
       "       Year  quarter  place_of_residence mode_of_transport       country  \\\n",
       "86854  2017  Jul-Sep  Overseas residents            Tunnel   Switzerland   \n",
       "86855  2017  Jul-Sep  Overseas residents            Tunnel   Switzerland   \n",
       "86856  2017  Jul-Sep  Overseas residents            Tunnel   Switzerland   \n",
       "86857  2017  Jul-Sep  Overseas residents            Tunnel        Turkey   \n",
       "86858  2017  Jul-Sep  Overseas residents            Tunnel  Other Europe   \n",
       "\n",
       "      purpose_of_travel  holiday_package        Age     Sex       duration  \\\n",
       "86854           Holiday  Non-Independent  65 & over  Female  4 - 13 Nights   \n",
       "86855          Business      Independent      35-44    Male   1 - 3 Nights   \n",
       "86856               VFR      Independent      25-34    Male   1 - 3 Nights   \n",
       "86857          Business      Independent      55-64    Male  4 - 13 Nights   \n",
       "86858          Business      Independent      35-44    Male  4 - 13 Nights   \n",
       "\n",
       "       weighted_visits  weighted_nights  weighted_spend  \n",
       "86854         1124.887         7874.209      833541.267  \n",
       "86855         1251.385         1251.385      508062.310  \n",
       "86856         1251.385         1251.385      250277.000  \n",
       "86857         1226.617         4906.468       24532.340  \n",
       "86858         3233.306        16166.530           0.000  "
      ]
     },
     "execution_count": 24,
     "metadata": {},
     "output_type": "execute_result"
    }
   ],
   "source": [
    "\n",
    "print(clean_duration.shape)\n",
    "\n",
    "clean_duration.tail()"
   ]
  },
  {
   "cell_type": "code",
   "execution_count": 25,
   "metadata": {},
   "outputs": [
    {
     "name": "stdout",
     "output_type": "stream",
     "text": [
      "False\n"
     ]
    }
   ],
   "source": [
    "print(clean_duration.isnull().values.any())"
   ]
  },
  {
   "cell_type": "code",
   "execution_count": 26,
   "metadata": {
    "collapsed": true
   },
   "outputs": [],
   "source": [
    "#splitting a column and writing to a new file\n",
    "data3 =  clean_duration\n"
   ]
  },
  {
   "cell_type": "code",
   "execution_count": 27,
   "metadata": {},
   "outputs": [
    {
     "name": "stdout",
     "output_type": "stream",
     "text": [
      "(45770, 13)\n",
      "(41089, 13)\n"
     ]
    }
   ],
   "source": [
    "#UK Residents\n",
    "UK_Residents = data3[data3['place_of_residence'].str.contains(\"UK\")]\n",
    "print(UK_Residents.shape)\n",
    "\n",
    "#Overseas Residents\n",
    "Overseas_Residents = data3[data3['place_of_residence'].str.contains(\"Overseas\")]\n",
    "print(Overseas_Residents.shape)"
   ]
  },
  {
   "cell_type": "code",
   "execution_count": 28,
   "metadata": {
    "collapsed": true
   },
   "outputs": [],
   "source": [
    "#Write to file\n",
    "writerUK = pd.ExcelWriter('Travelpac_cleaned_UK_final.xlsx')\n",
    "UK_Residents.to_excel(writerUK, 'Labelled 2014-2017', index=True)\n",
    "writerUK.save()"
   ]
  },
  {
   "cell_type": "code",
   "execution_count": 29,
   "metadata": {
    "collapsed": true
   },
   "outputs": [],
   "source": [
    "#Write to file\n",
    "writerOverseas = pd.ExcelWriter('Travelpac_cleaned_overseas_final.xlsx')\n",
    "Overseas_Residents.to_excel(writerOverseas, 'Labelled 2014-2017', index=True)\n",
    "writerOverseas.save()"
   ]
  },
  {
   "cell_type": "code",
   "execution_count": null,
   "metadata": {
    "collapsed": true
   },
   "outputs": [],
   "source": []
  }
 ],
 "metadata": {
  "kernelspec": {
   "display_name": "Python 3",
   "language": "python",
   "name": "python3"
  },
  "language_info": {
   "codemirror_mode": {
    "name": "ipython",
    "version": 3
   },
   "file_extension": ".py",
   "mimetype": "text/x-python",
   "name": "python",
   "nbconvert_exporter": "python",
   "pygments_lexer": "ipython3",
   "version": "3.6.3"
  }
 },
 "nbformat": 4,
 "nbformat_minor": 2
}
